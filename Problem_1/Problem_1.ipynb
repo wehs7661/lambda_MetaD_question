{
 "cells": [
  {
   "cell_type": "markdown",
   "metadata": {},
   "source": [
    "## Problem 1: The inconsistency in free energy calculations results between 2D alchemical metadynamics starting from different torsional states"
   ]
  },
  {
   "cell_type": "markdown",
   "metadata": {},
   "source": [
    "## 1. Introduction"
   ]
  },
  {
   "cell_type": "markdown",
   "metadata": {},
   "source": [
    "As described in README of the repository, the system of interest is a molecule composed of 4 vdW sites with 0 net charges. The force constant of the only dihedral in this molecule was increased to 20 kJ/mol to heighten the free energy barrier in the configurational space. I designed this system to show that 2D alchemical metadynamics is able to estimate the free energy difference (between the coupled and uncoupled states) correctly given sufficient sampling in the configurational space when expanded ensemble is not able to. Below is my workflow for showing this ability of 2D alchemical metadynamics."
   ]
  },
  {
   "cell_type": "markdown",
   "metadata": {},
   "source": [
    "- I ran a metadynamics only biasing the torsional angle to extract configurations at two different torsional states. I call these two states as state A (dihedral around 180 degrees) and state B (dihedral around 0 degrees).\n",
    "- I launched a 100 ns expanded ensemble (EXE) simulation for each of these states to show that alchemical sampling starting from different torsional states would lead to different free energy estimations due to insufficient sampling in the configurational space.\n",
    "  - EXE starting from state A: \n",
    "    - The free energy barrier was able to prevent the system from sampling state B.\n",
    "    - The free energy difference between $\\lambda=1$ and $\\lambda=0$ was around (estimated by MBAR) **-2.544 $\\pm$ 0.040 kT**.\n",
    "  - EXE starting from state B: \n",
    "    - The free energy barrier was able to prevent the system from sampling state A.\n",
    "    - The free energy difference between $\\lambda=1$ and $\\lambda=0$ was around (estimated by MBAR) **-4.949 $\\pm$ 0.047 kT**.\n",
    "- Then, I performed a 100 ns 2D alchemical metadynamics for each of the two torsional states, with the configurational CV being the only dihedral in the molecule. Ideally, 2D alchemical metadynamics starting from different torsional states should give consistent estimates of the free energy difference. \n",
    "\n",
    "In any simulations above, the same 8 alchemical states were defined to decouple only the van der Waals interactions."
   ]
  },
  {
   "cell_type": "markdown",
   "metadata": {},
   "source": [
    "## 2. Description of the problem"
   ]
  },
  {
   "cell_type": "markdown",
   "metadata": {},
   "source": [
    "As a result, I found that the free energy differences obtained from 2D alchemical metadynamics were not consistent with each other. To examine this, below I use the same method you suggested last time, which is shown in `lambda_MetaD_questions/archived_questions/Method_1/Check.ipynb`."
   ]
  },
  {
   "cell_type": "markdown",
   "metadata": {},
   "source": [
    "First of all, I load in the following functions that were used in `Check.ipynb`."
   ]
  },
  {
   "cell_type": "code",
   "execution_count": 1,
   "metadata": {},
   "outputs": [],
   "source": [
    "import plumed\n",
    "import matplotlib.pyplot as plt\n",
    "import numpy as np\n",
    "np.random.seed(1994) # makes notebook reproducible\n",
    "kBT = 2.478956208925815\n",
    "\n",
    "def analyze(traj, n_blocks, discard=0):\n",
    "    \"\"\"\n",
    "    This function returns average and error with bootstrap\n",
    "    \n",
    "    Parameters\n",
    "    ----------\n",
    "    traj (pandas.DataFrame): trajectory data (content of COLVAR)\n",
    "    nblocks (int): number of blocks\n",
    "    discard (float): discarded fraction\n",
    "    \"\"\"\n",
    "    n = int(len(traj) * (1.0 - discard))   # number of data points considered\n",
    "    # make sure the number of frames is a multiple of nblocks (discard the first few frames)\n",
    "    n = (n // n_blocks) * n_blocks\n",
    "    bias = np.array(traj[\"metad.bias\"])\n",
    "    bias -= np.max(bias) # avoid overflows\n",
    "    w = np.exp(bias / kBT)[-n:].reshape((n_blocks, -1)) # shape: (nblocks, nframes in one block), weight for each point\n",
    "    \n",
    "    # A: coupled state, B: uncoupled state\n",
    "    isA = np.array(traj[\"lambda\"] == 0)[-n:].reshape((n_blocks, -1)) # 1 if in A (np.in_ converts bool to 0 or 1)\n",
    "    isB = np.array(traj[\"lambda\"] == np.max(traj[\"lambda\"]))[-n:].reshape((n_blocks, -1)) # 1 if in B\n",
    "    \n",
    "    B = 200 # number of bootstrap iterations\n",
    "    boot = np.random.choice(n_blocks, size=(B, n_blocks))  # draw samples from np.arange(n_blocks), size refers the output size\n",
    "    popA = np.average(isA[boot], axis=(1,2), weights=w[boot])  # Note that isA[boot] is a 3D array\n",
    "    popB = np.average(isB[boot], axis=(1,2), weights=w[boot])  # shapes of popA and popB: (B,)\n",
    "\n",
    "    df = np.log(popA / popB) # this is in kBT units\n",
    "    popA0 = np.average(isA, weights=w)\n",
    "    popB0 = np.average(isB, weights=w)\n",
    "    return np.log(popA0 / popB0), np.std(df)\n",
    "\n",
    "# time-averaged potential, computed averaging over the final 25%\n",
    "def time_average(hills, t0=0.75):\n",
    "    n0 = int(len(hills) * t0)   # number of data points considered\n",
    "    w = np.hstack((np.ones(n0), np.linspace(1, 0, len(hills) - n0)))  # the weights for the first n0 points are 1\n",
    "    hills = hills.copy()\n",
    "    hills.height *= w\n",
    "    return hills"
   ]
  },
  {
   "cell_type": "markdown",
   "metadata": {},
   "source": [
    "In terms of the parameters, here I'm using the bias averaged over the last 20% of the simulation to reweight the CV time series and 50 blocks are used. To calculate the average bias, I use the function `time_average` as below. Instead of using `metad_bias` function shown in `Check.ipynb`, which seems only applicable for 1D alchemical metadynamics, I instead use the plumed driver to sum up the output of `time_average` to get the average bias. \n",
    "\n",
    "Below I first calculate the free energy difference for the simulation starting from state A."
   ]
  },
  {
   "cell_type": "code",
   "execution_count": 2,
   "metadata": {},
   "outputs": [],
   "source": [
    "hills = plumed.read_as_pandas('state_A/HILLS_2D')\n",
    "hills_avg = time_average(hills, t0=0.8)\n",
    "plumed.write_pandas(hills_avg, 'state_A/HILLS_2D_modified')"
   ]
  },
  {
   "cell_type": "markdown",
   "metadata": {},
   "source": [
    "After writing out the output from `time_average` to `HILLS_2D_modified`, I use the plumed driver with the input file `plumed_sum_bias.dat` to get the average bias."
   ]
  },
  {
   "cell_type": "code",
   "execution_count": 3,
   "metadata": {
    "scrolled": true
   },
   "outputs": [
    {
     "name": "stdout",
     "output_type": "stream",
     "text": [
      "PLUMED: PLUMED is starting\n",
      "PLUMED: Version: 2.8.0-dev (git: 9991c4c14) compiled on Nov 12 2020 at 15:24:46\n",
      "PLUMED: Please cite these papers when using PLUMED [1][2]\n",
      "PLUMED: For further information see the PLUMED web page at http://www.plumed.org\n",
      "PLUMED: Root: /home/wei-tse/Documents/Software/PLUMED/plumed2/\n",
      "PLUMED: For installed feature, see /home/wei-tse/Documents/Software/PLUMED/plumed2//src/config/config.txt\n",
      "PLUMED: Molecular dynamics engine: driver\n",
      "PLUMED: Precision of reals: 8\n",
      "PLUMED: Running over 1 node\n",
      "PLUMED: Number of threads: 1\n",
      "PLUMED: Cache line size: 512\n",
      "PLUMED: Number of atoms: 0\n",
      "PLUMED: File suffix: \n",
      "PLUMED: FILE: plumed_sum_bias.dat\n",
      "PLUMED: Action READ\n",
      "PLUMED:   with label theta\n",
      "PLUMED:   with stride 1\n",
      "PLUMED:   reading data from file COLVAR\n",
      "PLUMED:   reading value theta and storing as theta\n",
      "PLUMED: Action READ\n",
      "PLUMED:   with label lambda\n",
      "PLUMED:   with stride 1\n",
      "PLUMED:   reading data from file COLVAR\n",
      "PLUMED:   reading value lambda and storing as lambda\n",
      "PLUMED: Action METAD\n",
      "PLUMED:   with label metad\n",
      "PLUMED:   with arguments theta lambda\n",
      "PLUMED:   added component to this action:  metad.bias \n",
      "PLUMED:   Gaussian width  0.500000 0.000100  Gaussian height 0.000000\n",
      "PLUMED:   Gaussian deposition pace 500000000\n",
      "PLUMED:   Gaussian file HILLS_2D_modified\n",
      "PLUMED:   Well-Tempered Bias Factor 60.000000\n",
      "PLUMED:   Hills relaxation time (tau) inf\n",
      "PLUMED:   KbT 2.477710\n",
      "PLUMED:   Grid min -pi 0\n",
      "PLUMED:   Grid max pi 7\n",
      "PLUMED:   Grid bin 100 7\n",
      "PLUMED:   Grid uses spline interpolation\n",
      "PLUMED:   added component to this action:  metad.work \n",
      "PLUMED:   WARNING: Using a METAD with a Grid Spacing larger than half of the Gaussians width can produce artifacts\n",
      "PLUMED:   WARNING: Using a METAD with a Grid Spacing larger than half of the Gaussians width can produce artifacts\n",
      "PLUMED:   Restarting from HILLS_2D_modified:      100000 Gaussians read\n",
      "PLUMED:   Bibliography [3][4]\n",
      "PLUMED: Action PRINT\n",
      "PLUMED:   with label @3\n",
      "PLUMED:   with stride 1\n",
      "PLUMED:   with arguments theta lambda metad.bias\n",
      "PLUMED:   on file COLVAR_SUM_BIAS\n",
      "PLUMED:   with format  %f\n",
      "PLUMED: END FILE: plumed_sum_bias.dat\n",
      "PLUMED: Timestep: 1.000000\n",
      "PLUMED: KbT has not been set by the MD engine\n",
      "PLUMED: It should be set by hand where needed\n",
      "PLUMED: Relevant bibliography:\n",
      "PLUMED:   [1] The PLUMED consortium, Nat. Methods 16, 670 (2019)\n",
      "PLUMED:   [2] Tribello, Bonomi, Branduardi, Camilloni, and Bussi, Comput. Phys. Commun. 185, 604 (2014)\n",
      "PLUMED:   [3] Laio and Parrinello, PNAS 99, 12562 (2002)\n",
      "PLUMED:   [4] Barducci, Bussi, and Parrinello, Phys. Rev. Lett. 100, 020603 (2008)\n",
      "PLUMED: Please read and cite where appropriate!\n",
      "PLUMED: Finished setup\n",
      "PLUMED:                                               Cycles        Total      Average      Minimum      Maximum\n",
      "PLUMED:                                                    1   103.132385   103.132385   103.132385   103.132385\n",
      "PLUMED: 1 Prepare dependencies                       5000001     6.159399     0.000001     0.000001     0.005371\n",
      "PLUMED: 2 Sharing data                               5000001     0.144920     0.000000     0.000000     0.001118\n",
      "PLUMED: 3 Waiting for data                           5000001     0.182947     0.000000     0.000000     0.000018\n",
      "PLUMED: 4 Calculating (forward loop)                 5000001    38.647348     0.000008     0.000007     0.010652\n",
      "PLUMED: 5 Applying (backward loop)                   5000001     2.789763     0.000001     0.000000     0.005375\n",
      "PLUMED: 6 Update                                     5000001    45.761330     0.000009     0.000007     0.020745\n"
     ]
    }
   ],
   "source": [
    "%%bash\n",
    "source /home/wei-tse/Documents/Software/PLUMED/plumed2/sourceme.sh\n",
    "cd state_A/\n",
    "plumed driver --plumed plumed_sum_bias.dat --noatoms"
   ]
  },
  {
   "cell_type": "markdown",
   "metadata": {},
   "source": [
    "The content of the PLUMED input file `plumed_sum_bias.dat` is shown below."
   ]
  },
  {
   "cell_type": "code",
   "execution_count": 4,
   "metadata": {},
   "outputs": [
    {
     "name": "stdout",
     "output_type": "stream",
     "text": [
      "theta: READ FILE=COLVAR VALUES=theta IGNORE_TIME IGNORE_FORCES\n",
      "lambda: READ FILE=COLVAR VALUES=lambda IGNORE_TIME IGNORE_FORCES\n",
      "\n",
      "METAD ...\n",
      "ARG=theta,lambda \n",
      "SIGMA=0.5,0.0001     # small SIGMA ensure that the Gaussian approaximate a delta function\n",
      "HEIGHT=0\n",
      "PACE=500000000        # should be nstexpanded\n",
      "GRID_MIN=-pi,0   # index of alchemical states starts from 0\n",
      "GRID_MAX=pi,7    # we have 8 states in total\n",
      "GRID_BIN=100,7\n",
      "TEMP=298\n",
      "BIASFACTOR=60\n",
      "LABEL=metad    \n",
      "FILE=HILLS_2D_modified\n",
      "RESTART=YES\n",
      "... METAD\n",
      "\n",
      "PRINT STRIDE=1 ARG=theta,lambda,metad.bias FILE=COLVAR_SUM_BIAS\n"
     ]
    }
   ],
   "source": [
    "%%bash\n",
    "cat state_A/plumed_sum_bias.dat"
   ]
  },
  {
   "cell_type": "markdown",
   "metadata": {},
   "source": [
    "After getting `COLVAR_SUM_BIAS`, where the last column is the average bias, I calculate the free energy difference using `analyze` as below. Here I truncate the first 50% of the simulation."
   ]
  },
  {
   "cell_type": "code",
   "execution_count": 5,
   "metadata": {},
   "outputs": [
    {
     "name": "stdout",
     "output_type": "stream",
     "text": [
      "The free energy difference obtained from the 2D alchemical metadynamics starting from state A is -2.518 +/- 0.043kT.\n"
     ]
    }
   ],
   "source": [
    "results = analyze(plumed.read_as_pandas('state_A/COLVAR_SUM_BIAS'), n_blocks=50, discard=0.5)\n",
    "print(f'The free energy difference obtained from the 2D alchemical metadynamics starting from state A is {results[0]:.3f} +/- {results[1]:.3f}kT.')"
   ]
  },
  {
   "cell_type": "markdown",
   "metadata": {},
   "source": [
    "I repeat the same workflow for the other simulation as below."
   ]
  },
  {
   "cell_type": "code",
   "execution_count": 6,
   "metadata": {},
   "outputs": [],
   "source": [
    "hills = plumed.read_as_pandas('state_B/HILLS_2D')\n",
    "hills_avg = time_average(hills, t0=0.8)\n",
    "plumed.write_pandas(hills_avg, 'state_B/HILLS_2D_modified')"
   ]
  },
  {
   "cell_type": "code",
   "execution_count": 7,
   "metadata": {
    "scrolled": true
   },
   "outputs": [
    {
     "name": "stdout",
     "output_type": "stream",
     "text": [
      "PLUMED: PLUMED is starting\n",
      "PLUMED: Version: 2.8.0-dev (git: 9991c4c14) compiled on Nov 12 2020 at 15:24:46\n",
      "PLUMED: Please cite these papers when using PLUMED [1][2]\n",
      "PLUMED: For further information see the PLUMED web page at http://www.plumed.org\n",
      "PLUMED: Root: /home/wei-tse/Documents/Software/PLUMED/plumed2/\n",
      "PLUMED: For installed feature, see /home/wei-tse/Documents/Software/PLUMED/plumed2//src/config/config.txt\n",
      "PLUMED: Molecular dynamics engine: driver\n",
      "PLUMED: Precision of reals: 8\n",
      "PLUMED: Running over 1 node\n",
      "PLUMED: Number of threads: 1\n",
      "PLUMED: Cache line size: 512\n",
      "PLUMED: Number of atoms: 0\n",
      "PLUMED: File suffix: \n",
      "PLUMED: FILE: plumed_sum_bias.dat\n",
      "PLUMED: Action READ\n",
      "PLUMED:   with label theta\n",
      "PLUMED:   with stride 1\n",
      "PLUMED:   reading data from file COLVAR\n",
      "PLUMED:   reading value theta and storing as theta\n",
      "PLUMED: Action READ\n",
      "PLUMED:   with label lambda\n",
      "PLUMED:   with stride 1\n",
      "PLUMED:   reading data from file COLVAR\n",
      "PLUMED:   reading value lambda and storing as lambda\n",
      "PLUMED: Action METAD\n",
      "PLUMED:   with label metad\n",
      "PLUMED:   with arguments theta lambda\n",
      "PLUMED:   added component to this action:  metad.bias \n",
      "PLUMED:   Gaussian width  0.500000 0.000100  Gaussian height 0.000000\n",
      "PLUMED:   Gaussian deposition pace 500000000\n",
      "PLUMED:   Gaussian file HILLS_2D_modified\n",
      "PLUMED:   Well-Tempered Bias Factor 60.000000\n",
      "PLUMED:   Hills relaxation time (tau) inf\n",
      "PLUMED:   KbT 2.477710\n",
      "PLUMED:   Grid min -pi 0\n",
      "PLUMED:   Grid max pi 7\n",
      "PLUMED:   Grid bin 100 7\n",
      "PLUMED:   Grid uses spline interpolation\n",
      "PLUMED:   added component to this action:  metad.work \n",
      "PLUMED:   WARNING: Using a METAD with a Grid Spacing larger than half of the Gaussians width can produce artifacts\n",
      "PLUMED:   WARNING: Using a METAD with a Grid Spacing larger than half of the Gaussians width can produce artifacts\n",
      "PLUMED:   Restarting from HILLS_2D_modified:      100000 Gaussians read\n",
      "PLUMED:   Bibliography [3][4]\n",
      "PLUMED: Action PRINT\n",
      "PLUMED:   with label @3\n",
      "PLUMED:   with stride 1\n",
      "PLUMED:   with arguments theta lambda metad.bias\n",
      "PLUMED:   on file COLVAR_SUM_BIAS\n",
      "PLUMED:   with format  %f\n",
      "PLUMED: END FILE: plumed_sum_bias.dat\n",
      "PLUMED: Timestep: 1.000000\n",
      "PLUMED: KbT has not been set by the MD engine\n",
      "PLUMED: It should be set by hand where needed\n",
      "PLUMED: Relevant bibliography:\n",
      "PLUMED:   [1] The PLUMED consortium, Nat. Methods 16, 670 (2019)\n",
      "PLUMED:   [2] Tribello, Bonomi, Branduardi, Camilloni, and Bussi, Comput. Phys. Commun. 185, 604 (2014)\n",
      "PLUMED:   [3] Laio and Parrinello, PNAS 99, 12562 (2002)\n",
      "PLUMED:   [4] Barducci, Bussi, and Parrinello, Phys. Rev. Lett. 100, 020603 (2008)\n",
      "PLUMED: Please read and cite where appropriate!\n",
      "PLUMED: Finished setup\n",
      "PLUMED:                                               Cycles        Total      Average      Minimum      Maximum\n",
      "PLUMED:                                                    1   111.655109   111.655109   111.655109   111.655109\n",
      "PLUMED: 1 Prepare dependencies                       5000001     6.648759     0.000001     0.000001     0.005376\n",
      "PLUMED: 2 Sharing data                               5000001     0.154735     0.000000     0.000000     0.002649\n",
      "PLUMED: 3 Waiting for data                           5000001     0.210344     0.000000     0.000000     0.000031\n",
      "PLUMED: 4 Calculating (forward loop)                 5000001    41.538557     0.000008     0.000007     0.005449\n",
      "PLUMED: 5 Applying (backward loop)                   5000001     2.960575     0.000001     0.000000     0.005363\n",
      "PLUMED: 6 Update                                     5000001    49.223636     0.000010     0.000007     0.007913\n"
     ]
    }
   ],
   "source": [
    "%%bash\n",
    "source /home/wei-tse/Documents/Software/PLUMED/plumed2/sourceme.sh\n",
    "cd state_B/\n",
    "plumed driver --plumed plumed_sum_bias.dat --noatoms"
   ]
  },
  {
   "cell_type": "code",
   "execution_count": 8,
   "metadata": {},
   "outputs": [
    {
     "name": "stdout",
     "output_type": "stream",
     "text": [
      "The free energy difference obtained from the 2D alchemical metadynamics starting from state B is -4.994 +/- 0.032kT.\n"
     ]
    }
   ],
   "source": [
    "results = analyze(plumed.read_as_pandas('state_B/COLVAR_SUM_BIAS'), n_blocks=50, discard=0.5)\n",
    "print(f'The free energy difference obtained from the 2D alchemical metadynamics starting from state B is {results[0]:.3f} +/- {results[1]:.3f}kT.')"
   ]
  },
  {
   "cell_type": "markdown",
   "metadata": {},
   "source": [
    "As shown above, the free energy differences obtained from the two simulations are not consistent with each as expected. "
   ]
  },
  {
   "cell_type": "markdown",
   "metadata": {},
   "source": [
    "**Note**: I found that the function `analyze` could use a lot of memory when the simulation is long. I've tried using the following to cut down memory usage by around 25% in my local modified code. If you have some suggestions about cutting down memories, that would also be very helpful!\n",
    "- Use boolean isntead of `np.int_`.\n",
    "- Use sparse matrices (not that useful actually) with `isA` and `isB`.\n",
    "- Use a mask array to calculate the weighted average."
   ]
  },
  {
   "cell_type": "markdown",
   "metadata": {},
   "source": [
    "## 3. Attemps in troubleshooting the problem"
   ]
  },
  {
   "cell_type": "markdown",
   "metadata": {},
   "source": [
    "To my understanding, the inconsistency in the free energy differences indicates that the system was sampling totally different conformational ensembles in the two simulations. Therefore, below I've checked the distributions of all the bond lengths and angles obtained from the two simulations, which should capture the conformational characteristics of the molecule. Note that the figures below are based on the data in `configuration.dat`, which was obtained by using the plumed driver with the following PLUMED input file `plumed_configuration.dat`:"
   ]
  },
  {
   "cell_type": "code",
   "execution_count": 9,
   "metadata": {},
   "outputs": [
    {
     "name": "stdout",
     "output_type": "stream",
     "text": [
      "d1: DISTANCE ATOMS=1,2\n",
      "d2: DISTANCE ATOMS=2,3\n",
      "d3: DISTANCE ATOMS=3,4\n",
      "\n",
      "t1: ANGLE ATOMS=1,2,3\n",
      "t2: ANGLE ATOMS=2,3,4\n",
      "\n",
      "PRINT ARG=d1,d2,d3,t1,t2 STRIDE=1 FILE=configuration.dat\n",
      "\n"
     ]
    }
   ],
   "source": [
    "%%bash \n",
    "cat state_A/plumed_configuration.dat"
   ]
  },
  {
   "cell_type": "markdown",
   "metadata": {},
   "source": [
    "![image_1](analysis_results/bond_length_hist.png)"
   ]
  },
  {
   "cell_type": "markdown",
   "metadata": {},
   "source": [
    "<img src=analysis_results/angle_hist.png width=650>"
   ]
  },
  {
   "cell_type": "markdown",
   "metadata": {},
   "source": [
    "As shown above, for all the bond lengths/angles examined above, the distributions obtained from the two simulations are statistically consistent, which can also be seen from the p-values of Kolmogorov-Smirnov tets (null hypothesis: The two distributions are consistent with each other):"
   ]
  },
  {
   "cell_type": "markdown",
   "metadata": {},
   "source": [
    "|         | B.L. 1-2 | B.L. 2-3 | B.L. 3-4 | Angle 1-2-3 | Angle 2-3-4 |\n",
    "|---------|----------|----------|----------|-------------|-------------|\n",
    "| p-value | 0.8076   | 0.1741   | 0.3278   | 0.1555      | 0.5892      |"
   ]
  },
  {
   "cell_type": "markdown",
   "metadata": {},
   "source": [
    "Since the distributions shown above indicate the two simulations were sampling nearly the same conformation ensemble of the molecule, I was stuck in finding the reason for the discrepancy between the obtained free energy differences. I've uploaded all the inputs and outputs of the two simulations in the folders `state_A` and `state_B`. Large files such as `COLVAR`, `*.log` and `*.xtc` can be downloaded via [this link](https://drive.google.com/drive/folders/19mCLDtWa1L9jtyh13_DHYnLnhJqpXaN8?usp=sharing).  "
   ]
  },
  {
   "cell_type": "markdown",
   "metadata": {},
   "source": [
    "In addition to the distributions above, I've also compared the histograms of the two collective variables, which is the dihedral 1-2-3-4 and the alchemical variable."
   ]
  },
  {
   "cell_type": "markdown",
   "metadata": {},
   "source": [
    "<img src=analysis_results/CV_hist.png width=650>"
   ]
  },
  {
   "cell_type": "markdown",
   "metadata": {},
   "source": [
    "As shown above, it can be seen that the two simulations were sampling slightly different distributions. The p-values returned by the K-S tests for the dihedral distribution and the alchemical distribution were 4.19E-14 and 6.55E-140, respectively, which shows that distributions in these CV directions generated from the two simulations are statistically different. Originally, to my understanding, I thought that the distributions of the biased CV do not need to be the same and as long as they are flat enough, the free energy calculations should be rigorous. However, I'm still wondering if this is the reason for the discrepancy in the free energy calculations. "
   ]
  },
  {
   "cell_type": "markdown",
   "metadata": {},
   "source": [
    "To summarize, my main questions for this system are as follows:\n",
    "- What is the reason for the discrepancy in the free energy calculations of simulations starting from different torsional states?\n",
    "- What should we modify our system or protocol to potentially solve the problem?\n",
    "I've spent quite a while looking into the problem of this system but did not get a better solution."
   ]
  },
  {
   "cell_type": "markdown",
   "metadata": {},
   "source": [
    "If you could provide some guidance on this, it would be really helpful. Thank you so much for reading this far!"
   ]
  }
 ],
 "metadata": {
  "kernelspec": {
   "display_name": "Python 3",
   "language": "python",
   "name": "python3"
  },
  "language_info": {
   "codemirror_mode": {
    "name": "ipython",
    "version": 3
   },
   "file_extension": ".py",
   "mimetype": "text/x-python",
   "name": "python",
   "nbconvert_exporter": "python",
   "pygments_lexer": "ipython3",
   "version": "3.9.5"
  }
 },
 "nbformat": 4,
 "nbformat_minor": 4
}
