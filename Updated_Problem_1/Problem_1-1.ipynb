{
 "cells": [
  {
   "cell_type": "markdown",
   "id": "affected-complexity",
   "metadata": {},
   "source": [
    "# Problem 1-1: Data deduplication in free energy calculations"
   ]
  },
  {
   "cell_type": "markdown",
   "id": "recreational-blame",
   "metadata": {},
   "source": [
    "## 1. Overlapped time frames in a MD simulation"
   ]
  },
  {
   "cell_type": "markdown",
   "id": "circular-bulletin",
   "metadata": {},
   "source": [
    "This notebook discusses whether there is a need to deduplicate the overlapped time frames when calculating free energy differences. Specifically, \"overlapped\" or \"duplicate\" time frames are caused in a simulation whenever the simulation is interrupted at some point before reaching the final time frame due to timeout or a GROMACS error. A checkpoint file is required for such simulations to be restarted. As the simulation is typically restarted from the last saved checkpoint rather than exactly where the simulation stops there would be overlapped time frames from the last checkpoint to the point where the simulation stops.\n",
    "\n",
    "To demonstrate this, here I take the simple system adopted in the previous Problem 1 as the system of interest, which is a molecule composed of 4 uncharged vdW sites. In the folder `Data/Problem_1-1/interrupted_simulation` I saved the output files of a 2D alchemical metadynamics simulation of this system. The simulation was manually interrupted around the middle of the way and was later extended to the expected length of 20 ns. "
   ]
  },
  {
   "cell_type": "markdown",
   "id": "absent-pavilion",
   "metadata": {},
   "source": [
    "Below we first check the file COLVAR obtained from this simulation:"
   ]
  },
  {
   "cell_type": "code",
   "execution_count": 1,
   "id": "passing-faculty",
   "metadata": {},
   "outputs": [
    {
     "name": "stderr",
     "output_type": "stream",
     "text": [
      "<ipython-input-1-e58cbf6b3f79>:2: UserWarning: cannot load PLUMED instance, conversions will not be available\n",
      "  data = plumed.read_as_pandas('Data/Problem_1-1/interrupted_simulation/COLVAR')\n"
     ]
    },
    {
     "data": {
      "text/html": [
       "<div>\n",
       "<style scoped>\n",
       "    .dataframe tbody tr th:only-of-type {\n",
       "        vertical-align: middle;\n",
       "    }\n",
       "\n",
       "    .dataframe tbody tr th {\n",
       "        vertical-align: top;\n",
       "    }\n",
       "\n",
       "    .dataframe thead th {\n",
       "        text-align: right;\n",
       "    }\n",
       "</style>\n",
       "<table border=\"1\" class=\"dataframe\">\n",
       "  <thead>\n",
       "    <tr style=\"text-align: right;\">\n",
       "      <th></th>\n",
       "      <th>time</th>\n",
       "      <th>theta</th>\n",
       "      <th>lambda</th>\n",
       "      <th>metad.bias</th>\n",
       "    </tr>\n",
       "  </thead>\n",
       "  <tbody>\n",
       "    <tr>\n",
       "      <th>0</th>\n",
       "      <td>0.00000</td>\n",
       "      <td>-3.032395</td>\n",
       "      <td>0.0</td>\n",
       "      <td>0.000000</td>\n",
       "    </tr>\n",
       "    <tr>\n",
       "      <th>1</th>\n",
       "      <td>0.02000</td>\n",
       "      <td>-3.073884</td>\n",
       "      <td>0.0</td>\n",
       "      <td>0.000000</td>\n",
       "    </tr>\n",
       "    <tr>\n",
       "      <th>2</th>\n",
       "      <td>0.04000</td>\n",
       "      <td>3.050476</td>\n",
       "      <td>0.0</td>\n",
       "      <td>0.000000</td>\n",
       "    </tr>\n",
       "    <tr>\n",
       "      <th>3</th>\n",
       "      <td>0.06000</td>\n",
       "      <td>2.953665</td>\n",
       "      <td>0.0</td>\n",
       "      <td>0.000000</td>\n",
       "    </tr>\n",
       "    <tr>\n",
       "      <th>4</th>\n",
       "      <td>0.08000</td>\n",
       "      <td>2.978590</td>\n",
       "      <td>0.0</td>\n",
       "      <td>0.000000</td>\n",
       "    </tr>\n",
       "    <tr>\n",
       "      <th>...</th>\n",
       "      <td>...</td>\n",
       "      <td>...</td>\n",
       "      <td>...</td>\n",
       "      <td>...</td>\n",
       "    </tr>\n",
       "    <tr>\n",
       "      <th>1090377</th>\n",
       "      <td>19999.92095</td>\n",
       "      <td>-2.340282</td>\n",
       "      <td>6.0</td>\n",
       "      <td>341.633030</td>\n",
       "    </tr>\n",
       "    <tr>\n",
       "      <th>1090378</th>\n",
       "      <td>19999.94095</td>\n",
       "      <td>-2.279066</td>\n",
       "      <td>6.0</td>\n",
       "      <td>339.879673</td>\n",
       "    </tr>\n",
       "    <tr>\n",
       "      <th>1090379</th>\n",
       "      <td>19999.96095</td>\n",
       "      <td>-2.268446</td>\n",
       "      <td>7.0</td>\n",
       "      <td>345.509855</td>\n",
       "    </tr>\n",
       "    <tr>\n",
       "      <th>1090380</th>\n",
       "      <td>19999.98095</td>\n",
       "      <td>-2.196914</td>\n",
       "      <td>6.0</td>\n",
       "      <td>337.667748</td>\n",
       "    </tr>\n",
       "    <tr>\n",
       "      <th>1090381</th>\n",
       "      <td>20000.00095</td>\n",
       "      <td>-2.143118</td>\n",
       "      <td>6.0</td>\n",
       "      <td>336.330684</td>\n",
       "    </tr>\n",
       "  </tbody>\n",
       "</table>\n",
       "<p>1090382 rows × 4 columns</p>\n",
       "</div>"
      ],
      "text/plain": [
       "                time     theta  lambda  metad.bias\n",
       "0            0.00000 -3.032395     0.0    0.000000\n",
       "1            0.02000 -3.073884     0.0    0.000000\n",
       "2            0.04000  3.050476     0.0    0.000000\n",
       "3            0.06000  2.953665     0.0    0.000000\n",
       "4            0.08000  2.978590     0.0    0.000000\n",
       "...              ...       ...     ...         ...\n",
       "1090377  19999.92095 -2.340282     6.0  341.633030\n",
       "1090378  19999.94095 -2.279066     6.0  339.879673\n",
       "1090379  19999.96095 -2.268446     7.0  345.509855\n",
       "1090380  19999.98095 -2.196914     6.0  337.667748\n",
       "1090381  20000.00095 -2.143118     6.0  336.330684\n",
       "\n",
       "[1090382 rows x 4 columns]"
      ]
     },
     "execution_count": 1,
     "metadata": {},
     "output_type": "execute_result"
    }
   ],
   "source": [
    "import plumed\n",
    "data = plumed.read_as_pandas('Data/Problem_1-1/interrupted_simulation/COLVAR')\n",
    "data"
   ]
  },
  {
   "cell_type": "markdown",
   "id": "exceptional-lighting",
   "metadata": {},
   "source": [
    "With `STRIDE=10` and `dt=0.002` (ps), 20 ns of simulation should generate 1000001 data points (including the initial time frame). However, the COLVAR file of simulation A has 1090382 frames since a fair amount of time frames are overlapped. As can be checked below, there are overlapped time frames because the simulation stopped at 9647.28 ps, while the last checkpoint was only updated to 7839.68 ps since the checkpoint file only updates for every 15 minutes in a GROMACS simulation. As such, when the simulation was restarted with the checkpoint file, it continued from 7839.68 ps instead of 9647.28 ps, leading to duplicate time frames from 7839.68 ps to 9647.28 ps. "
   ]
  },
  {
   "cell_type": "code",
   "execution_count": 2,
   "id": "extraordinary-devil",
   "metadata": {},
   "outputs": [
    {
     "data": {
      "text/html": [
       "<div>\n",
       "<style scoped>\n",
       "    .dataframe tbody tr th:only-of-type {\n",
       "        vertical-align: middle;\n",
       "    }\n",
       "\n",
       "    .dataframe tbody tr th {\n",
       "        vertical-align: top;\n",
       "    }\n",
       "\n",
       "    .dataframe thead th {\n",
       "        text-align: right;\n",
       "    }\n",
       "</style>\n",
       "<table border=\"1\" class=\"dataframe\">\n",
       "  <thead>\n",
       "    <tr style=\"text-align: right;\">\n",
       "      <th></th>\n",
       "      <th>time</th>\n",
       "      <th>theta</th>\n",
       "      <th>lambda</th>\n",
       "      <th>metad.bias</th>\n",
       "    </tr>\n",
       "  </thead>\n",
       "  <tbody>\n",
       "    <tr>\n",
       "      <th>482360</th>\n",
       "      <td>9647.200458</td>\n",
       "      <td>-0.296379</td>\n",
       "      <td>2.0</td>\n",
       "      <td>243.001426</td>\n",
       "    </tr>\n",
       "    <tr>\n",
       "      <th>482361</th>\n",
       "      <td>9647.220458</td>\n",
       "      <td>-0.251398</td>\n",
       "      <td>1.0</td>\n",
       "      <td>245.201731</td>\n",
       "    </tr>\n",
       "    <tr>\n",
       "      <th>482362</th>\n",
       "      <td>9647.240458</td>\n",
       "      <td>-0.225176</td>\n",
       "      <td>2.0</td>\n",
       "      <td>244.034849</td>\n",
       "    </tr>\n",
       "    <tr>\n",
       "      <th>482363</th>\n",
       "      <td>9647.260458</td>\n",
       "      <td>-0.277790</td>\n",
       "      <td>0.0</td>\n",
       "      <td>247.643763</td>\n",
       "    </tr>\n",
       "    <tr>\n",
       "      <th>482364</th>\n",
       "      <td>9647.280458</td>\n",
       "      <td>-0.374748</td>\n",
       "      <td>1.0</td>\n",
       "      <td>243.537231</td>\n",
       "    </tr>\n",
       "    <tr>\n",
       "      <th>482365</th>\n",
       "      <td>7839.680372</td>\n",
       "      <td>-2.939678</td>\n",
       "      <td>1.0</td>\n",
       "      <td>249.620467</td>\n",
       "    </tr>\n",
       "    <tr>\n",
       "      <th>482366</th>\n",
       "      <td>7839.700372</td>\n",
       "      <td>-3.086773</td>\n",
       "      <td>1.0</td>\n",
       "      <td>250.748685</td>\n",
       "    </tr>\n",
       "    <tr>\n",
       "      <th>482367</th>\n",
       "      <td>7839.720372</td>\n",
       "      <td>3.026472</td>\n",
       "      <td>0.0</td>\n",
       "      <td>254.126936</td>\n",
       "    </tr>\n",
       "    <tr>\n",
       "      <th>482368</th>\n",
       "      <td>7839.740372</td>\n",
       "      <td>2.828960</td>\n",
       "      <td>0.0</td>\n",
       "      <td>252.104507</td>\n",
       "    </tr>\n",
       "    <tr>\n",
       "      <th>482369</th>\n",
       "      <td>7839.760372</td>\n",
       "      <td>2.571524</td>\n",
       "      <td>0.0</td>\n",
       "      <td>246.346690</td>\n",
       "    </tr>\n",
       "    <tr>\n",
       "      <th>482370</th>\n",
       "      <td>7839.780372</td>\n",
       "      <td>2.403021</td>\n",
       "      <td>0.0</td>\n",
       "      <td>241.272754</td>\n",
       "    </tr>\n",
       "  </tbody>\n",
       "</table>\n",
       "</div>"
      ],
      "text/plain": [
       "               time     theta  lambda  metad.bias\n",
       "482360  9647.200458 -0.296379     2.0  243.001426\n",
       "482361  9647.220458 -0.251398     1.0  245.201731\n",
       "482362  9647.240458 -0.225176     2.0  244.034849\n",
       "482363  9647.260458 -0.277790     0.0  247.643763\n",
       "482364  9647.280458 -0.374748     1.0  243.537231\n",
       "482365  7839.680372 -2.939678     1.0  249.620467\n",
       "482366  7839.700372 -3.086773     1.0  250.748685\n",
       "482367  7839.720372  3.026472     0.0  254.126936\n",
       "482368  7839.740372  2.828960     0.0  252.104507\n",
       "482369  7839.760372  2.571524     0.0  246.346690\n",
       "482370  7839.780372  2.403021     0.0  241.272754"
      ]
     },
     "execution_count": 2,
     "metadata": {},
     "output_type": "execute_result"
    }
   ],
   "source": [
    "data.loc[482360:482370]"
   ]
  },
  {
   "cell_type": "markdown",
   "id": "complete-concentration",
   "metadata": {},
   "source": [
    "## 2.  The influence of overlapped time frames on free energy calculations"
   ]
  },
  {
   "cell_type": "markdown",
   "id": "included-charm",
   "metadata": {},
   "source": [
    "Apparently, the overlapped time frames could influence the average bias used for reweighting in free energy calculations. To estimate the free energy difference correctly, I assumed that we should discard the first occurrence of the overlapped time frames such that the correct and continuous CV time series is considered. Notably, given that the statistics of the duplicate time frames should be roughly the same, I do think that the results obtained from the simulation with or without deduplication should not deviate from each other too much. However, as demonstrated below, free energy calculations with data deduplication are statistically different from the ones without any data deduplication. It is also not consistent with the benchmark we got from the simulation without any interruption. "
   ]
  },
  {
   "cell_type": "markdown",
   "id": "universal-microphone",
   "metadata": {},
   "source": [
    "Below are the functions we previously used for free energy calculations:"
   ]
  },
  {
   "cell_type": "code",
   "execution_count": 3,
   "id": "appropriate-binding",
   "metadata": {},
   "outputs": [],
   "source": [
    "import numpy as np\n",
    "np.random.seed(1994) # makes notebook reproducible\n",
    "kBT = 2.478956208925815\n",
    "\n",
    "def analyze(traj, n_blocks, discard=0):\n",
    "    n = int(len(traj) * (1.0 - discard))   # number of data points considered\n",
    "    # make sure the number of frames is a multiple of nblocks (discard the first few frames)\n",
    "    n = (n // n_blocks) * n_blocks\n",
    "    bias = np.array(traj[\"metad.bias\"])\n",
    "    bias -= np.max(bias) # avoid overflows\n",
    "    w = np.exp(bias / kBT)[-n:].reshape((n_blocks, -1)) # shape: (nblocks, nframes in one block), weight for each point\n",
    "    \n",
    "    # A: coupled state, B: uncoupled state\n",
    "    isA = np.array(traj[\"lambda\"] == 0)[-n:].reshape((n_blocks, -1)) # 1 if in A (np.in_ converts bool to 0 or 1)\n",
    "    isB = np.array(traj[\"lambda\"] == np.max(traj[\"lambda\"]))[-n:].reshape((n_blocks, -1)) # 1 if in B\n",
    "    \n",
    "    B = 200 # number of bootstrap iterations\n",
    "    boot = np.random.choice(n_blocks, size=(B, n_blocks))  # draw samples from np.arange(n_blocks), size refers the output size\n",
    "    popA = np.average(isA[boot], axis=(1,2), weights=w[boot])  # Note that isA[boot] is a 3D array\n",
    "    popB = np.average(isB[boot], axis=(1,2), weights=w[boot])  # shapes of popA and popB: (B,)\n",
    "\n",
    "    df = np.log(popA / popB) # this is in kBT units\n",
    "    popA0 = np.average(isA, weights=w)\n",
    "    popB0 = np.average(isB, weights=w)\n",
    "    return np.log(popA0 / popB0), np.std(df)\n",
    "\n",
    "def time_average(hills, t0=0.75):\n",
    "    # time-averaged potential, computed averaging over the final 25%\n",
    "    n0 = int(len(hills) * t0)   # number of data points considered\n",
    "    w = np.hstack((np.ones(n0), np.linspace(1, 0, len(hills) - n0)))  # the weights for the first n0 points are 1\n",
    "    hills = hills.copy()\n",
    "    hills.height *= w\n",
    "    return hills"
   ]
  },
  {
   "cell_type": "markdown",
   "id": "brave-undergraduate",
   "metadata": {},
   "source": [
    "With the functions above, we can calculate the free energy difference with or without data deduplication, as elaborated below."
   ]
  },
  {
   "cell_type": "markdown",
   "id": "assumed-forty",
   "metadata": {},
   "source": [
    "### 2-1. Method 1: Free energy calculations without data deduplication"
   ]
  },
  {
   "cell_type": "markdown",
   "id": "classical-insider",
   "metadata": {},
   "source": [
    "Here we just repeat exactly what we did in the previous Problem 1 notebook, which is without data deduplication. "
   ]
  },
  {
   "cell_type": "markdown",
   "id": "compliant-mercury",
   "metadata": {},
   "source": [
    "#### Step 1: Generate `HILLS_2D_modified`."
   ]
  },
  {
   "cell_type": "code",
   "execution_count": 4,
   "id": "quality-accordance",
   "metadata": {},
   "outputs": [
    {
     "name": "stderr",
     "output_type": "stream",
     "text": [
      "<ipython-input-4-51dab084fc64>:1: UserWarning: cannot load PLUMED instance, conversions will not be available\n",
      "  hills = plumed.read_as_pandas('Data/Problem_1-1/interrupted_simulation/HILLS_2D')\n"
     ]
    }
   ],
   "source": [
    "hills = plumed.read_as_pandas('Data/Problem_1-1/interrupted_simulation/HILLS_2D')\n",
    "hills_avg = time_average(hills, t0=0.8)\n",
    "plumed.write_pandas(hills_avg, 'Data/Problem_1-1/interrupted_simulation/without_deduplication/HILLS_2D_modified')"
   ]
  },
  {
   "cell_type": "markdown",
   "id": "searching-postcard",
   "metadata": {},
   "source": [
    "#### Step 2: Generate `COLVAR_SUM_BIAS` that contains average bias for reweighting"
   ]
  },
  {
   "cell_type": "code",
   "execution_count": 5,
   "id": "occupied-official",
   "metadata": {
    "scrolled": true
   },
   "outputs": [
    {
     "name": "stdout",
     "output_type": "stream",
     "text": [
      "PLUMED: PLUMED is starting\n",
      "PLUMED: Version: 2.8.0-dev (git: 63008b018) compiled on Nov 21 2020 at 02:44:56\n",
      "PLUMED: Please cite these papers when using PLUMED [1][2]\n",
      "PLUMED: For further information see the PLUMED web page at http://www.plumed.org\n",
      "PLUMED: Root: /Users/Wei-TseHsu/Documents/Software/PLUMED/plumed2/\n",
      "PLUMED: For installed feature, see /Users/Wei-TseHsu/Documents/Software/PLUMED/plumed2//src/config/config.txt\n",
      "PLUMED: Molecular dynamics engine: driver\n",
      "PLUMED: Precision of reals: 8\n",
      "PLUMED: Running over 1 node\n",
      "PLUMED: Number of threads: 1\n",
      "PLUMED: Cache line size: 512\n",
      "PLUMED: Number of atoms: 0\n",
      "PLUMED: File suffix: \n",
      "PLUMED: FILE: plumed_sum_bias.dat\n",
      "PLUMED: Action READ\n",
      "PLUMED:   with label theta\n",
      "PLUMED:   with stride 1\n",
      "PLUMED:   reading data from file ../COLVAR\n",
      "PLUMED:   reading value theta and storing as theta\n",
      "PLUMED: Action READ\n",
      "PLUMED:   with label lambda\n",
      "PLUMED:   with stride 1\n",
      "PLUMED:   reading data from file ../COLVAR\n",
      "PLUMED:   reading value lambda and storing as lambda\n",
      "PLUMED: Action METAD\n",
      "PLUMED:   with label metad\n",
      "PLUMED:   with arguments theta lambda\n",
      "PLUMED:   added component to this action:  metad.bias \n",
      "PLUMED:   Gaussian width  0.500000 0.000100  Gaussian height 0.000000\n",
      "PLUMED:   Gaussian deposition pace 500000000\n",
      "PLUMED:   Gaussian file HILLS_2D_modified\n",
      "PLUMED:   Well-Tempered Bias Factor 60.000000\n",
      "PLUMED:   Hills relaxation time (tau) inf\n",
      "PLUMED:   KbT 2.477710\n",
      "PLUMED:   Grid min -pi 0\n",
      "PLUMED:   Grid max pi 7\n",
      "PLUMED:   Grid bin 100 7\n",
      "PLUMED:   Grid uses spline interpolation\n",
      "PLUMED:   WARNING: Using a METAD with a Grid Spacing larger than half of the Gaussians width (SIGMA) can produce artifacts\n",
      "PLUMED:   Restarting from HILLS_2D_modified:      21808 Gaussians read\n",
      "PLUMED:   Bibliography [3][4]\n",
      "PLUMED: Action PRINT\n",
      "PLUMED:   with label @3\n",
      "PLUMED:   with stride 1\n",
      "PLUMED:   with arguments theta lambda metad.bias\n",
      "PLUMED:   on file COLVAR_SUM_BIAS\n",
      "PLUMED:   with format  %f\n",
      "PLUMED: END FILE: plumed_sum_bias.dat\n",
      "PLUMED: Timestep: 1.000000\n",
      "PLUMED: KbT has not been set by the MD engine\n",
      "PLUMED: It should be set by hand where needed\n",
      "PLUMED: Relevant bibliography:\n",
      "PLUMED:   [1] The PLUMED consortium, Nat. Methods 16, 670 (2019)\n",
      "PLUMED:   [2] Tribello, Bonomi, Branduardi, Camilloni, and Bussi, Comput. Phys. Commun. 185, 604 (2014)\n",
      "PLUMED:   [3] Laio and Parrinello, PNAS 99, 12562 (2002)\n",
      "PLUMED:   [4] Barducci, Bussi, and Parrinello, Phys. Rev. Lett. 100, 020603 (2008)\n",
      "PLUMED: Please read and cite where appropriate!\n",
      "PLUMED: Finished setup\n",
      "PLUMED:                                               Cycles        Total      Average      Minimum      Maximum\n",
      "PLUMED:                                                    1    24.498921    24.498921    24.498921    24.498921\n",
      "PLUMED: 1 Prepare dependencies                       1090382     0.859727     0.000001     0.000001     0.000248\n",
      "PLUMED: 2 Sharing data                               1090382     0.044070     0.000000     0.000000     0.000030\n",
      "PLUMED: 3 Waiting for data                           1090382     0.042165     0.000000     0.000000     0.000027\n",
      "PLUMED: 4 Calculating (forward loop)                 1090382     6.453050     0.000006     0.000005     0.000799\n",
      "PLUMED: 5 Applying (backward loop)                   1090382     0.592969     0.000001     0.000000     0.000249\n",
      "PLUMED: 6 Update                                     1090382    13.813028     0.000013     0.000005     0.024048\n"
     ]
    }
   ],
   "source": [
    "%%bash\n",
    "source /Users/Wei-TseHsu/Documents/Software/PLUMED/plumed2/sourceme.sh\n",
    "cd Data/Problem_1-1/interrupted_simulation/without_deduplication/\n",
    "plumed driver --plumed plumed_sum_bias.dat --noatoms"
   ]
  },
  {
   "cell_type": "markdown",
   "id": "polish-publicity",
   "metadata": {},
   "source": [
    "#### Step 3: Calculate the free energy difference and its uncertainty"
   ]
  },
  {
   "cell_type": "code",
   "execution_count": 6,
   "id": "surrounded-kuwait",
   "metadata": {},
   "outputs": [
    {
     "name": "stderr",
     "output_type": "stream",
     "text": [
      "<ipython-input-6-d91c611f026c>:1: UserWarning: cannot load PLUMED instance, conversions will not be available\n",
      "  results = analyze(plumed.read_as_pandas('Data/Problem_1-1/interrupted_simulation/without_deduplication/COLVAR_SUM_BIAS'), n_blocks=50, discard=0.2)\n"
     ]
    },
    {
     "name": "stdout",
     "output_type": "stream",
     "text": [
      "The free energy difference obtained without data deduplication is -2.587 +/- 0.073kT.\n"
     ]
    }
   ],
   "source": [
    "results = analyze(plumed.read_as_pandas('Data/Problem_1-1/interrupted_simulation/without_deduplication/COLVAR_SUM_BIAS'), n_blocks=50, discard=0.2)\n",
    "print(f'The free energy difference obtained without data deduplication is {results[0]:.3f} +/- {results[1]:.3f}kT.')"
   ]
  },
  {
   "cell_type": "markdown",
   "id": "renewable-description",
   "metadata": {},
   "source": [
    "### 2-2. Method 2: Free energy calculations WITH data deduplication"
   ]
  },
  {
   "cell_type": "markdown",
   "id": "muslim-morris",
   "metadata": {},
   "source": [
    "Below we first write a function to read and deduuplicate PLUMED outputs as needed:"
   ]
  },
  {
   "cell_type": "code",
   "execution_count": 7,
   "id": "caring-preserve",
   "metadata": {},
   "outputs": [],
   "source": [
    "def read_plumed_output(plumed_output):\n",
    "    \"\"\"\n",
    "    This function modifies the given plumed output file if it is corrupted, meaning that\n",
    "    there might be some duplicates in the time series having the same time frames. If the\n",
    "    file is not corrupted, this fucntion does nothing but only read in the data. \n",
    "\n",
    "    Parameters\n",
    "    ----------\n",
    "    plumed_output (str): The filename of the plumed output (such as HILLS or COLVAR files) to be read\n",
    "    \"\"\"\n",
    "    # Note that the below lines have no effects on the raw data if the time series is not corrupted.\n",
    "    data_original = plumed.read_as_pandas(plumed_output)\n",
    "    data = data_original[~data_original[\"time\"].duplicated(keep='last')]  # deduplicate time frames\n",
    "    data = data.dropna()        # drop N/A in case that there is any\n",
    "    data = data.reset_index()   # reset the index of the data frame, after this an column \"index\" will be added\n",
    "    data = data.drop(columns=[\"index\"])    # drop the index column\n",
    "\n",
    "    return data"
   ]
  },
  {
   "cell_type": "markdown",
   "id": "increased-coral",
   "metadata": {},
   "source": [
    "Here is a quick look of the result of this function:"
   ]
  },
  {
   "cell_type": "code",
   "execution_count": 8,
   "id": "southeast-dominican",
   "metadata": {},
   "outputs": [
    {
     "name": "stderr",
     "output_type": "stream",
     "text": [
      "<ipython-input-7-76bf076df08b>:12: UserWarning: cannot load PLUMED instance, conversions will not be available\n",
      "  data_original = plumed.read_as_pandas(plumed_output)\n"
     ]
    },
    {
     "data": {
      "text/html": [
       "<div>\n",
       "<style scoped>\n",
       "    .dataframe tbody tr th:only-of-type {\n",
       "        vertical-align: middle;\n",
       "    }\n",
       "\n",
       "    .dataframe tbody tr th {\n",
       "        vertical-align: top;\n",
       "    }\n",
       "\n",
       "    .dataframe thead th {\n",
       "        text-align: right;\n",
       "    }\n",
       "</style>\n",
       "<table border=\"1\" class=\"dataframe\">\n",
       "  <thead>\n",
       "    <tr style=\"text-align: right;\">\n",
       "      <th></th>\n",
       "      <th>time</th>\n",
       "      <th>theta</th>\n",
       "      <th>lambda</th>\n",
       "      <th>metad.bias</th>\n",
       "    </tr>\n",
       "  </thead>\n",
       "  <tbody>\n",
       "    <tr>\n",
       "      <th>0</th>\n",
       "      <td>0.00000</td>\n",
       "      <td>-3.032395</td>\n",
       "      <td>0.0</td>\n",
       "      <td>0.000000</td>\n",
       "    </tr>\n",
       "    <tr>\n",
       "      <th>1</th>\n",
       "      <td>0.02000</td>\n",
       "      <td>-3.073884</td>\n",
       "      <td>0.0</td>\n",
       "      <td>0.000000</td>\n",
       "    </tr>\n",
       "    <tr>\n",
       "      <th>2</th>\n",
       "      <td>0.04000</td>\n",
       "      <td>3.050476</td>\n",
       "      <td>0.0</td>\n",
       "      <td>0.000000</td>\n",
       "    </tr>\n",
       "    <tr>\n",
       "      <th>3</th>\n",
       "      <td>0.06000</td>\n",
       "      <td>2.953665</td>\n",
       "      <td>0.0</td>\n",
       "      <td>0.000000</td>\n",
       "    </tr>\n",
       "    <tr>\n",
       "      <th>4</th>\n",
       "      <td>0.08000</td>\n",
       "      <td>2.978590</td>\n",
       "      <td>0.0</td>\n",
       "      <td>0.000000</td>\n",
       "    </tr>\n",
       "    <tr>\n",
       "      <th>...</th>\n",
       "      <td>...</td>\n",
       "      <td>...</td>\n",
       "      <td>...</td>\n",
       "      <td>...</td>\n",
       "    </tr>\n",
       "    <tr>\n",
       "      <th>999996</th>\n",
       "      <td>19999.92095</td>\n",
       "      <td>-2.340282</td>\n",
       "      <td>6.0</td>\n",
       "      <td>341.633030</td>\n",
       "    </tr>\n",
       "    <tr>\n",
       "      <th>999997</th>\n",
       "      <td>19999.94095</td>\n",
       "      <td>-2.279066</td>\n",
       "      <td>6.0</td>\n",
       "      <td>339.879673</td>\n",
       "    </tr>\n",
       "    <tr>\n",
       "      <th>999998</th>\n",
       "      <td>19999.96095</td>\n",
       "      <td>-2.268446</td>\n",
       "      <td>7.0</td>\n",
       "      <td>345.509855</td>\n",
       "    </tr>\n",
       "    <tr>\n",
       "      <th>999999</th>\n",
       "      <td>19999.98095</td>\n",
       "      <td>-2.196914</td>\n",
       "      <td>6.0</td>\n",
       "      <td>337.667748</td>\n",
       "    </tr>\n",
       "    <tr>\n",
       "      <th>1000000</th>\n",
       "      <td>20000.00095</td>\n",
       "      <td>-2.143118</td>\n",
       "      <td>6.0</td>\n",
       "      <td>336.330684</td>\n",
       "    </tr>\n",
       "  </tbody>\n",
       "</table>\n",
       "<p>1000001 rows × 4 columns</p>\n",
       "</div>"
      ],
      "text/plain": [
       "                time     theta  lambda  metad.bias\n",
       "0            0.00000 -3.032395     0.0    0.000000\n",
       "1            0.02000 -3.073884     0.0    0.000000\n",
       "2            0.04000  3.050476     0.0    0.000000\n",
       "3            0.06000  2.953665     0.0    0.000000\n",
       "4            0.08000  2.978590     0.0    0.000000\n",
       "...              ...       ...     ...         ...\n",
       "999996   19999.92095 -2.340282     6.0  341.633030\n",
       "999997   19999.94095 -2.279066     6.0  339.879673\n",
       "999998   19999.96095 -2.268446     7.0  345.509855\n",
       "999999   19999.98095 -2.196914     6.0  337.667748\n",
       "1000000  20000.00095 -2.143118     6.0  336.330684\n",
       "\n",
       "[1000001 rows x 4 columns]"
      ]
     },
     "execution_count": 8,
     "metadata": {},
     "output_type": "execute_result"
    }
   ],
   "source": [
    "data = read_plumed_output('Data/Problem_1-1/interrupted_simulation/COLVAR')\n",
    "data"
   ]
  },
  {
   "cell_type": "markdown",
   "id": "auburn-profile",
   "metadata": {},
   "source": [
    "As shown above, after data deduplication, the total number of time frames becomes 1000001. In addition, it can be checked that the first occurrence of the duplicate time frames were discarded. "
   ]
  },
  {
   "cell_type": "markdown",
   "id": "simplified-source",
   "metadata": {},
   "source": [
    "Note that the only difference between Method 2 and Method 1 is that in Method 2, instead of using `plumed.read_as_pandas` to read in PLUMEd outputs, we read in the files using our own functions `read_plumed_output` with data deduplication enabled. "
   ]
  },
  {
   "cell_type": "markdown",
   "id": "funded-coverage",
   "metadata": {},
   "source": [
    "#### Step 1: Deduplicate `HILLS` and generate `HILLS_modified`\n",
    "Before generating `HILLS_2D_modified`, we need to deduplicate the overlapped time frames as below."
   ]
  },
  {
   "cell_type": "code",
   "execution_count": 9,
   "id": "controlled-module",
   "metadata": {},
   "outputs": [
    {
     "name": "stderr",
     "output_type": "stream",
     "text": [
      "<ipython-input-7-76bf076df08b>:12: UserWarning: cannot load PLUMED instance, conversions will not be available\n",
      "  data_original = plumed.read_as_pandas(plumed_output)\n"
     ]
    }
   ],
   "source": [
    "hills = read_plumed_output('Data/Problem_1-1/interrupted_simulation/HILLS_2D')\n",
    "hills_avg = time_average(hills, t0=0.8)\n",
    "plumed.write_pandas(hills_avg, 'Data/Problem_1-1/interrupted_simulation/with_deduplication/HILLS_2D_modified')"
   ]
  },
  {
   "cell_type": "markdown",
   "id": "equal-compound",
   "metadata": {},
   "source": [
    "#### Step 2: Deduplicate `COLVAR` and generate `COLVAR_SUM_BIAS` that contains average bias for reweighting"
   ]
  },
  {
   "cell_type": "code",
   "execution_count": 10,
   "id": "marine-underwear",
   "metadata": {
    "scrolled": true
   },
   "outputs": [
    {
     "name": "stdout",
     "output_type": "stream",
     "text": [
      "PLUMED: PLUMED is starting\n",
      "PLUMED: Version: 2.8.0-dev (git: 63008b018) compiled on Nov 21 2020 at 02:44:56\n",
      "PLUMED: Please cite these papers when using PLUMED [1][2]\n",
      "PLUMED: For further information see the PLUMED web page at http://www.plumed.org\n",
      "PLUMED: Root: /Users/Wei-TseHsu/Documents/Software/PLUMED/plumed2/\n",
      "PLUMED: For installed feature, see /Users/Wei-TseHsu/Documents/Software/PLUMED/plumed2//src/config/config.txt\n",
      "PLUMED: Molecular dynamics engine: driver\n",
      "PLUMED: Precision of reals: 8\n",
      "PLUMED: Running over 1 node\n",
      "PLUMED: Number of threads: 1\n",
      "PLUMED: Cache line size: 512\n",
      "PLUMED: Number of atoms: 0\n",
      "PLUMED: File suffix: \n",
      "PLUMED: FILE: plumed_sum_bias.dat\n",
      "PLUMED: Action READ\n",
      "PLUMED:   with label theta\n",
      "PLUMED:   with stride 1\n",
      "PLUMED:   reading data from file ../COLVAR\n",
      "PLUMED:   reading value theta and storing as theta\n",
      "PLUMED: Action READ\n",
      "PLUMED:   with label lambda\n",
      "PLUMED:   with stride 1\n",
      "PLUMED:   reading data from file ../COLVAR\n",
      "PLUMED:   reading value lambda and storing as lambda\n",
      "PLUMED: Action METAD\n",
      "PLUMED:   with label metad\n",
      "PLUMED:   with arguments theta lambda\n",
      "PLUMED:   added component to this action:  metad.bias \n",
      "PLUMED:   Gaussian width  0.500000 0.000100  Gaussian height 0.000000\n",
      "PLUMED:   Gaussian deposition pace 500000000\n",
      "PLUMED:   Gaussian file HILLS_2D_modified\n",
      "PLUMED:   Well-Tempered Bias Factor 60.000000\n",
      "PLUMED:   Hills relaxation time (tau) inf\n",
      "PLUMED:   KbT 2.477710\n",
      "PLUMED:   Grid min -pi 0\n",
      "PLUMED:   Grid max pi 7\n",
      "PLUMED:   Grid bin 100 7\n",
      "PLUMED:   Grid uses spline interpolation\n",
      "PLUMED:   WARNING: Using a METAD with a Grid Spacing larger than half of the Gaussians width (SIGMA) can produce artifacts\n",
      "PLUMED:   Restarting from HILLS_2D_modified:      20000 Gaussians read\n",
      "PLUMED:   Bibliography [3][4]\n",
      "PLUMED: Action PRINT\n",
      "PLUMED:   with label @3\n",
      "PLUMED:   with stride 1\n",
      "PLUMED:   with arguments theta lambda metad.bias\n",
      "PLUMED:   on file COLVAR_SUM_BIAS\n",
      "PLUMED:   with format  %f\n",
      "PLUMED: END FILE: plumed_sum_bias.dat\n",
      "PLUMED: Timestep: 1.000000\n",
      "PLUMED: KbT has not been set by the MD engine\n",
      "PLUMED: It should be set by hand where needed\n",
      "PLUMED: Relevant bibliography:\n",
      "PLUMED:   [1] The PLUMED consortium, Nat. Methods 16, 670 (2019)\n",
      "PLUMED:   [2] Tribello, Bonomi, Branduardi, Camilloni, and Bussi, Comput. Phys. Commun. 185, 604 (2014)\n",
      "PLUMED:   [3] Laio and Parrinello, PNAS 99, 12562 (2002)\n",
      "PLUMED:   [4] Barducci, Bussi, and Parrinello, Phys. Rev. Lett. 100, 020603 (2008)\n",
      "PLUMED: Please read and cite where appropriate!\n",
      "PLUMED: Finished setup\n",
      "PLUMED:                                               Cycles        Total      Average      Minimum      Maximum\n",
      "PLUMED:                                                    1    23.638301    23.638301    23.638301    23.638301\n",
      "PLUMED: 1 Prepare dependencies                       1090382     0.845075     0.000001     0.000001     0.000104\n",
      "PLUMED: 2 Sharing data                               1090382     0.041584     0.000000     0.000000     0.000029\n",
      "PLUMED: 3 Waiting for data                           1090382     0.041280     0.000000     0.000000     0.000026\n",
      "PLUMED: 4 Calculating (forward loop)                 1090382     6.298676     0.000006     0.000005     0.000402\n",
      "PLUMED: 5 Applying (backward loop)                   1090382     0.586135     0.000001     0.000000     0.000104\n",
      "PLUMED: 6 Update                                     1090382    13.268367     0.000012     0.000005     0.024678\n"
     ]
    }
   ],
   "source": [
    "%%bash\n",
    "source /Users/Wei-TseHsu/Documents/Software/PLUMED/plumed2/sourceme.sh\n",
    "cd Data/Problem_1-1/interrupted_simulation/with_deduplication/\n",
    "plumed driver --plumed plumed_sum_bias.dat --noatoms"
   ]
  },
  {
   "cell_type": "markdown",
   "id": "exposed-thumbnail",
   "metadata": {},
   "source": [
    "#### Step 3. Calculate the free energy difference and its uncertainty¶"
   ]
  },
  {
   "cell_type": "code",
   "execution_count": 11,
   "id": "deadly-warehouse",
   "metadata": {},
   "outputs": [
    {
     "name": "stderr",
     "output_type": "stream",
     "text": [
      "<ipython-input-11-b78e955ff8b4>:1: UserWarning: cannot load PLUMED instance, conversions will not be available\n",
      "  results = analyze(plumed.read_as_pandas('Data/Problem_1-1/interrupted_simulation/with_deduplication/COLVAR_SUM_BIAS'), n_blocks=50, discard=0.2)\n"
     ]
    },
    {
     "name": "stdout",
     "output_type": "stream",
     "text": [
      "The free energy difference obtained with data dedupliation -1.756 +/- 0.065kT.\n"
     ]
    }
   ],
   "source": [
    "results = analyze(plumed.read_as_pandas('Data/Problem_1-1/interrupted_simulation/with_deduplication/COLVAR_SUM_BIAS'), n_blocks=50, discard=0.2)\n",
    "print(f'The free energy difference obtained with data dedupliation {results[0]:.3f} +/- {results[1]:.3f}kT.')"
   ]
  },
  {
   "cell_type": "markdown",
   "id": "fifty-religious",
   "metadata": {},
   "source": [
    "### 2-3. Comparison of the methods"
   ]
  },
  {
   "cell_type": "markdown",
   "id": "sixth-wisdom",
   "metadata": {},
   "source": [
    "Here is a summary of the results obtained above:\n",
    "- Without data deduplication of HILLS and COLVAR: **-2.636 +/- 0.073 kT**\n",
    "- With data deduplication of HILLS and COLVAR: **-1.802 +/- 0.074 kT**\n",
    "\n",
    "As mentioned above, to my understanding, I think the data should be deduplicated so that the timeseries considered is continuous. However, it seems that the results obtained with data deduplication was not correct. To show this, I performed another simulation with exactly the same input files, whose PLUMED outputs are saved in the folder `Data/Problem_1-1/uninterrupted_simulation`. Since this simulation was not interrupted at all and has no concern about data deduplication, we could use it as a reference for our free energy calculations. Below we calculate the free energy difference of the system from this simulation. "
   ]
  },
  {
   "cell_type": "code",
   "execution_count": 12,
   "id": "rapid-detective",
   "metadata": {},
   "outputs": [
    {
     "name": "stderr",
     "output_type": "stream",
     "text": [
      "<ipython-input-12-6a7af5f4ce6f>:1: UserWarning: cannot load PLUMED instance, conversions will not be available\n",
      "  hills = plumed.read_as_pandas('Data/Problem_1-1/uninterrupted_simulation/HILLS_2D')\n"
     ]
    }
   ],
   "source": [
    "hills = plumed.read_as_pandas('Data/Problem_1-1/uninterrupted_simulation/HILLS_2D')\n",
    "hills_avg = time_average(hills, t0=0.8)\n",
    "plumed.write_pandas(hills_avg, 'Data/Problem_1-1/uninterrupted_simulation/HILLS_2D_modified')"
   ]
  },
  {
   "cell_type": "code",
   "execution_count": 13,
   "id": "prompt-ridge",
   "metadata": {
    "scrolled": true
   },
   "outputs": [
    {
     "name": "stdout",
     "output_type": "stream",
     "text": [
      "PLUMED: PLUMED is starting\n",
      "PLUMED: Version: 2.8.0-dev (git: 63008b018) compiled on Nov 21 2020 at 02:44:56\n",
      "PLUMED: Please cite these papers when using PLUMED [1][2]\n",
      "PLUMED: For further information see the PLUMED web page at http://www.plumed.org\n",
      "PLUMED: Root: /Users/Wei-TseHsu/Documents/Software/PLUMED/plumed2/\n",
      "PLUMED: For installed feature, see /Users/Wei-TseHsu/Documents/Software/PLUMED/plumed2//src/config/config.txt\n",
      "PLUMED: Molecular dynamics engine: driver\n",
      "PLUMED: Precision of reals: 8\n",
      "PLUMED: Running over 1 node\n",
      "PLUMED: Number of threads: 1\n",
      "PLUMED: Cache line size: 512\n",
      "PLUMED: Number of atoms: 0\n",
      "PLUMED: File suffix: \n",
      "PLUMED: FILE: plumed_sum_bias.dat\n",
      "PLUMED: Action READ\n",
      "PLUMED:   with label theta\n",
      "PLUMED:   with stride 1\n",
      "PLUMED:   reading data from file COLVAR\n",
      "PLUMED:   reading value theta and storing as theta\n",
      "PLUMED: Action READ\n",
      "PLUMED:   with label lambda\n",
      "PLUMED:   with stride 1\n",
      "PLUMED:   reading data from file COLVAR\n",
      "PLUMED:   reading value lambda and storing as lambda\n",
      "PLUMED: Action METAD\n",
      "PLUMED:   with label metad\n",
      "PLUMED:   with arguments theta lambda\n",
      "PLUMED:   added component to this action:  metad.bias \n",
      "PLUMED:   Gaussian width  0.500000 0.000100  Gaussian height 0.000000\n",
      "PLUMED:   Gaussian deposition pace 500000000\n",
      "PLUMED:   Gaussian file HILLS_2D_modified\n",
      "PLUMED:   Well-Tempered Bias Factor 60.000000\n",
      "PLUMED:   Hills relaxation time (tau) inf\n",
      "PLUMED:   KbT 2.477710\n",
      "PLUMED:   Grid min -pi 0\n",
      "PLUMED:   Grid max pi 7\n",
      "PLUMED:   Grid bin 100 7\n",
      "PLUMED:   Grid uses spline interpolation\n",
      "PLUMED:   WARNING: Using a METAD with a Grid Spacing larger than half of the Gaussians width (SIGMA) can produce artifacts\n",
      "PLUMED:   Restarting from HILLS_2D_modified:      20000 Gaussians read\n",
      "PLUMED:   Bibliography [3][4]\n",
      "PLUMED: Action PRINT\n",
      "PLUMED:   with label @3\n",
      "PLUMED:   with stride 1\n",
      "PLUMED:   with arguments theta lambda metad.bias\n",
      "PLUMED:   on file COLVAR_SUM_BIAS\n",
      "PLUMED:   with format  %f\n",
      "PLUMED: END FILE: plumed_sum_bias.dat\n",
      "PLUMED: Timestep: 1.000000\n",
      "PLUMED: KbT has not been set by the MD engine\n",
      "PLUMED: It should be set by hand where needed\n",
      "PLUMED: Relevant bibliography:\n",
      "PLUMED:   [1] The PLUMED consortium, Nat. Methods 16, 670 (2019)\n",
      "PLUMED:   [2] Tribello, Bonomi, Branduardi, Camilloni, and Bussi, Comput. Phys. Commun. 185, 604 (2014)\n",
      "PLUMED:   [3] Laio and Parrinello, PNAS 99, 12562 (2002)\n",
      "PLUMED:   [4] Barducci, Bussi, and Parrinello, Phys. Rev. Lett. 100, 020603 (2008)\n",
      "PLUMED: Please read and cite where appropriate!\n",
      "PLUMED: Finished setup\n",
      "PLUMED:                                               Cycles        Total      Average      Minimum      Maximum\n",
      "PLUMED:                                                    1    21.232471    21.232471    21.232471    21.232471\n",
      "PLUMED: 1 Prepare dependencies                       1000001     0.698275     0.000001     0.000001     0.000099\n",
      "PLUMED: 2 Sharing data                               1000001     0.037855     0.000000     0.000000     0.000030\n",
      "PLUMED: 3 Waiting for data                           1000001     0.038085     0.000000     0.000000     0.000088\n",
      "PLUMED: 4 Calculating (forward loop)                 1000001     5.610086     0.000006     0.000005     0.000113\n",
      "PLUMED: 5 Applying (backward loop)                   1000001     0.524096     0.000001     0.000000     0.000070\n",
      "PLUMED: 6 Update                                     1000001    11.926553     0.000012     0.000010     0.024911\n"
     ]
    }
   ],
   "source": [
    "%%bash\n",
    "source /Users/Wei-TseHsu/Documents/Software/PLUMED/plumed2/sourceme.sh\n",
    "cd Data/Problem_1-1/uninterrupted_simulation/\n",
    "plumed driver --plumed plumed_sum_bias.dat --noatoms"
   ]
  },
  {
   "cell_type": "code",
   "execution_count": 14,
   "id": "technical-inspiration",
   "metadata": {},
   "outputs": [
    {
     "name": "stderr",
     "output_type": "stream",
     "text": [
      "<ipython-input-14-087031bb6412>:1: UserWarning: cannot load PLUMED instance, conversions will not be available\n",
      "  results = analyze(plumed.read_as_pandas('Data/Problem_1-1/uninterrupted_simulation/COLVAR_SUM_BIAS'), n_blocks=500, discard=0.2)\n"
     ]
    },
    {
     "name": "stdout",
     "output_type": "stream",
     "text": [
      "The free energy difference is -2.335 +/- 0.069kT.\n"
     ]
    }
   ],
   "source": [
    "results = analyze(plumed.read_as_pandas('Data/Problem_1-1/uninterrupted_simulation/COLVAR_SUM_BIAS'), n_blocks=500, discard=0.2)\n",
    "print(f'The free energy difference is {results[0]:.3f} +/- {results[1]:.3f}kT.')"
   ]
  },
  {
   "cell_type": "markdown",
   "id": "therapeutic-tyler",
   "metadata": {},
   "source": [
    "As shown above, our analysis method with data deduplication fail to produce a result consistent with the reference. With this, I have the following two questions:\n",
    "- **Question 1**: When calculating free energies from a simulation that was interrupted at some point due to timout of crashing issues, should we deduplicate the overlapped time frames or not?\n",
    "- **Question 2**: If the data should be deduplicated, what is the reason that caused the deviation of the result from the reference? "
   ]
  },
  {
   "cell_type": "markdown",
   "id": "incoming-carol",
   "metadata": {},
   "source": [
    "I've been looking into this problem for a while but I fail to resolve the problem. It is quite common that a simulation is terminated and restarted at some point especially we are running for a long simulation. Therefore, it would be very helpful if you could provide some experiences with this. I appreciate a lot for your insights!"
   ]
  }
 ],
 "metadata": {
  "kernelspec": {
   "display_name": "Python 3",
   "language": "python",
   "name": "python3"
  },
  "language_info": {
   "codemirror_mode": {
    "name": "ipython",
    "version": 3
   },
   "file_extension": ".py",
   "mimetype": "text/x-python",
   "name": "python",
   "nbconvert_exporter": "python",
   "pygments_lexer": "ipython3",
   "version": "3.9.5"
  }
 },
 "nbformat": 4,
 "nbformat_minor": 5
}
