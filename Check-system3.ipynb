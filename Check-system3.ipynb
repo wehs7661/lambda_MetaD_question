{
 "cells": [
  {
   "cell_type": "code",
   "execution_count": 1,
   "id": "990a2b4d",
   "metadata": {},
   "outputs": [],
   "source": [
    "import numpy as np\n",
    "import plumed\n",
    "from matplotlib import pyplot as plt"
   ]
  },
  {
   "cell_type": "code",
   "execution_count": 2,
   "id": "aecdf316",
   "metadata": {},
   "outputs": [
    {
     "data": {
      "text/html": [
       "<div>\n",
       "<style scoped>\n",
       "    .dataframe tbody tr th:only-of-type {\n",
       "        vertical-align: middle;\n",
       "    }\n",
       "\n",
       "    .dataframe tbody tr th {\n",
       "        vertical-align: top;\n",
       "    }\n",
       "\n",
       "    .dataframe thead th {\n",
       "        text-align: right;\n",
       "    }\n",
       "</style>\n",
       "<table border=\"1\" class=\"dataframe\">\n",
       "  <thead>\n",
       "    <tr style=\"text-align: right;\">\n",
       "      <th></th>\n",
       "      <th>time</th>\n",
       "      <th>n</th>\n",
       "      <th>lambda</th>\n",
       "      <th>metad.bias</th>\n",
       "      <th>metad.work</th>\n",
       "      <th>uwall.bias</th>\n",
       "      <th>uwall.force2</th>\n",
       "      <th>lwall.bias</th>\n",
       "      <th>lwall.force2</th>\n",
       "    </tr>\n",
       "  </thead>\n",
       "  <tbody>\n",
       "    <tr>\n",
       "      <th>0</th>\n",
       "      <td>0.00</td>\n",
       "      <td>2.110478</td>\n",
       "      <td>0.0</td>\n",
       "      <td>0.000000</td>\n",
       "      <td>0.000000e+00</td>\n",
       "      <td>0.0</td>\n",
       "      <td>0.0</td>\n",
       "      <td>0.0</td>\n",
       "      <td>0.0</td>\n",
       "    </tr>\n",
       "    <tr>\n",
       "      <th>1</th>\n",
       "      <td>0.02</td>\n",
       "      <td>2.031148</td>\n",
       "      <td>0.0</td>\n",
       "      <td>0.000000</td>\n",
       "      <td>0.000000e+00</td>\n",
       "      <td>0.0</td>\n",
       "      <td>0.0</td>\n",
       "      <td>0.0</td>\n",
       "      <td>0.0</td>\n",
       "    </tr>\n",
       "    <tr>\n",
       "      <th>2</th>\n",
       "      <td>0.04</td>\n",
       "      <td>1.942041</td>\n",
       "      <td>0.0</td>\n",
       "      <td>4.415230</td>\n",
       "      <td>1.238094e+01</td>\n",
       "      <td>0.0</td>\n",
       "      <td>0.0</td>\n",
       "      <td>0.0</td>\n",
       "      <td>0.0</td>\n",
       "    </tr>\n",
       "    <tr>\n",
       "      <th>3</th>\n",
       "      <td>0.06</td>\n",
       "      <td>1.822416</td>\n",
       "      <td>0.0</td>\n",
       "      <td>1.040391</td>\n",
       "      <td>2.179542e+01</td>\n",
       "      <td>0.0</td>\n",
       "      <td>0.0</td>\n",
       "      <td>0.0</td>\n",
       "      <td>0.0</td>\n",
       "    </tr>\n",
       "    <tr>\n",
       "      <th>4</th>\n",
       "      <td>0.08</td>\n",
       "      <td>1.760122</td>\n",
       "      <td>0.0</td>\n",
       "      <td>7.339894</td>\n",
       "      <td>3.435510e+01</td>\n",
       "      <td>0.0</td>\n",
       "      <td>0.0</td>\n",
       "      <td>0.0</td>\n",
       "      <td>0.0</td>\n",
       "    </tr>\n",
       "    <tr>\n",
       "      <th>...</th>\n",
       "      <td>...</td>\n",
       "      <td>...</td>\n",
       "      <td>...</td>\n",
       "      <td>...</td>\n",
       "      <td>...</td>\n",
       "      <td>...</td>\n",
       "      <td>...</td>\n",
       "      <td>...</td>\n",
       "      <td>...</td>\n",
       "    </tr>\n",
       "    <tr>\n",
       "      <th>9999996</th>\n",
       "      <td>199999.92</td>\n",
       "      <td>2.371331</td>\n",
       "      <td>21.0</td>\n",
       "      <td>1581.403885</td>\n",
       "      <td>5.028873e+06</td>\n",
       "      <td>0.0</td>\n",
       "      <td>0.0</td>\n",
       "      <td>0.0</td>\n",
       "      <td>0.0</td>\n",
       "    </tr>\n",
       "    <tr>\n",
       "      <th>9999997</th>\n",
       "      <td>199999.94</td>\n",
       "      <td>2.386239</td>\n",
       "      <td>18.0</td>\n",
       "      <td>1613.513975</td>\n",
       "      <td>5.028873e+06</td>\n",
       "      <td>0.0</td>\n",
       "      <td>0.0</td>\n",
       "      <td>0.0</td>\n",
       "      <td>0.0</td>\n",
       "    </tr>\n",
       "    <tr>\n",
       "      <th>9999998</th>\n",
       "      <td>199999.96</td>\n",
       "      <td>2.430896</td>\n",
       "      <td>20.0</td>\n",
       "      <td>1593.145878</td>\n",
       "      <td>5.028874e+06</td>\n",
       "      <td>0.0</td>\n",
       "      <td>0.0</td>\n",
       "      <td>0.0</td>\n",
       "      <td>0.0</td>\n",
       "    </tr>\n",
       "    <tr>\n",
       "      <th>9999999</th>\n",
       "      <td>199999.98</td>\n",
       "      <td>2.464220</td>\n",
       "      <td>18.0</td>\n",
       "      <td>1612.793521</td>\n",
       "      <td>5.028874e+06</td>\n",
       "      <td>0.0</td>\n",
       "      <td>0.0</td>\n",
       "      <td>0.0</td>\n",
       "      <td>0.0</td>\n",
       "    </tr>\n",
       "    <tr>\n",
       "      <th>10000000</th>\n",
       "      <td>200000.00</td>\n",
       "      <td>2.432881</td>\n",
       "      <td>14.0</td>\n",
       "      <td>1661.859782</td>\n",
       "      <td>5.028874e+06</td>\n",
       "      <td>0.0</td>\n",
       "      <td>0.0</td>\n",
       "      <td>0.0</td>\n",
       "      <td>0.0</td>\n",
       "    </tr>\n",
       "  </tbody>\n",
       "</table>\n",
       "<p>10000001 rows × 9 columns</p>\n",
       "</div>"
      ],
      "text/plain": [
       "               time         n  lambda   metad.bias    metad.work  uwall.bias  \\\n",
       "0              0.00  2.110478     0.0     0.000000  0.000000e+00         0.0   \n",
       "1              0.02  2.031148     0.0     0.000000  0.000000e+00         0.0   \n",
       "2              0.04  1.942041     0.0     4.415230  1.238094e+01         0.0   \n",
       "3              0.06  1.822416     0.0     1.040391  2.179542e+01         0.0   \n",
       "4              0.08  1.760122     0.0     7.339894  3.435510e+01         0.0   \n",
       "...             ...       ...     ...          ...           ...         ...   \n",
       "9999996   199999.92  2.371331    21.0  1581.403885  5.028873e+06         0.0   \n",
       "9999997   199999.94  2.386239    18.0  1613.513975  5.028873e+06         0.0   \n",
       "9999998   199999.96  2.430896    20.0  1593.145878  5.028874e+06         0.0   \n",
       "9999999   199999.98  2.464220    18.0  1612.793521  5.028874e+06         0.0   \n",
       "10000000  200000.00  2.432881    14.0  1661.859782  5.028874e+06         0.0   \n",
       "\n",
       "          uwall.force2  lwall.bias  lwall.force2  \n",
       "0                  0.0         0.0           0.0  \n",
       "1                  0.0         0.0           0.0  \n",
       "2                  0.0         0.0           0.0  \n",
       "3                  0.0         0.0           0.0  \n",
       "4                  0.0         0.0           0.0  \n",
       "...                ...         ...           ...  \n",
       "9999996            0.0         0.0           0.0  \n",
       "9999997            0.0         0.0           0.0  \n",
       "9999998            0.0         0.0           0.0  \n",
       "9999999            0.0         0.0           0.0  \n",
       "10000000           0.0         0.0           0.0  \n",
       "\n",
       "[10000001 rows x 9 columns]"
      ]
     },
     "execution_count": 2,
     "metadata": {},
     "output_type": "execute_result"
    }
   ],
   "source": [
    "colvar=plumed.read_as_pandas(\"COLVAR\")\n",
    "colvar"
   ]
  },
  {
   "cell_type": "code",
   "execution_count": 3,
   "id": "d6a3d0bd",
   "metadata": {},
   "outputs": [],
   "source": [
    "# extract lambda=0 or 39\n",
    "colvar0=colvar[colvar[\"lambda\"]==0.0]\n",
    "colvar39=colvar[colvar[\"lambda\"]==39.0]"
   ]
  },
  {
   "cell_type": "code",
   "execution_count": 9,
   "id": "d692a640",
   "metadata": {},
   "outputs": [
    {
     "data": {
      "text/plain": [
       "[<matplotlib.lines.Line2D at 0x7fb4abf69bd0>]"
      ]
     },
     "execution_count": 9,
     "metadata": {},
     "output_type": "execute_result"
    },
    {
     "data": {
      "image/png": "[encoded data removed]",
      "text/plain": [
       "<Figure size 432x288 with 1 Axes>"
      ]
     },
     "metadata": {
      "needs_background": "light"
     },
     "output_type": "display_data"
    }
   ],
   "source": [
    "# this is a quick way to plot the \"envelope\" of the bias on n\n",
    "# it's useful on the fly, but the correct way is with sum_hills (see below)\n",
    "plt.plot(colvar39[\"n\"],colvar39[\"metad.bias\"],\"x\")\n",
    "plt.plot(colvar0[\"n\"],colvar0[\"metad.bias\"]-500,\"x\")\n",
    "# the -50 is just to see both envelopes. They are different as expected.\n",
    "# this means the F along the angle is the same at lambda=0 or lambda=1"
   ]
  },
  {
   "cell_type": "code",
   "execution_count": 28,
   "id": "3f0bd263",
   "metadata": {},
   "outputs": [
    {
     "name": "stdout",
     "output_type": "stream",
     "text": [
      "PLUMED: PLUMED is starting\n",
      "PLUMED: Version: 2.7.0 (git: Unknown) compiled on Dec 23 2020 at 20:47:11\n",
      "PLUMED: Please cite these papers when using PLUMED [1][2]\n",
      "PLUMED: For further information see the PLUMED web page at http://www.plumed.org\n",
      "PLUMED: Root: /Users/bussi/.conda/envs/work/lib/plumed\n",
      "PLUMED: For installed feature, see /Users/bussi/.conda/envs/work/lib/plumed/src/config/config.txt\n",
      "PLUMED: Molecular dynamics engine: \n",
      "PLUMED: Precision of reals: 8\n",
      "PLUMED: Running over 1 node\n",
      "PLUMED: Number of threads: 1\n",
      "PLUMED: Cache line size: 512\n",
      "PLUMED: Number of atoms: 1\n",
      "PLUMED: File suffix: \n",
      "PLUMED: Timestep: 0.000000\n",
      "PLUMED: KbT has not been set by the MD engine\n",
      "PLUMED: It should be set by hand where needed\n",
      "PLUMED: Relevant bibliography:\n",
      "PLUMED:   [1] The PLUMED consortium, Nat. Methods 16, 670 (2019)\n",
      "PLUMED:   [2] Tribello, Bonomi, Branduardi, Camilloni, and Bussi, Comput. Phys. Commun. 185, 604 (2014)\n",
      "PLUMED: Please read and cite where appropriate!\n",
      "PLUMED: Finished setup\n",
      "PLUMED: Action FAKE\n",
      "PLUMED:   with label lambda\n",
      "PLUMED: Action FAKE\n",
      "PLUMED:   with label n\n",
      "PLUMED: Action FUNCSUMHILLS\n",
      "PLUMED:   with label @2\n",
      "PLUMED:   with arguments lambda n\n",
      "PLUMED:   Output format is %14.9f\n",
      "PLUMED:   hillsfile  : HILLS_2D\n",
      "PLUMED:   Doing only one integration: no stride \n",
      "PLUMED:   output file for fes/bias  is :  fes.dat\n",
      "PLUMED: \n",
      "PLUMED:   Now calculating...\n",
      "PLUMED: \n",
      "PLUMED:   reading hills: \n",
      "PLUMED:   doing serialread \n",
      "PLUMED:   opening file HILLS_2D\n",
      "PLUMED:   closing file HILLS_2D\n",
      "PLUMED:   now total 10000000 kernels \n",
      "PLUMED:   final chunk: now with 10000000 kernels  \n",
      "PLUMED: \n",
      "PLUMED:   Writing full grid on file fes.dat \n",
      "PLUMED:                                               Cycles        Total      Average      Minimum      Maximum\n",
      "PLUMED: 0 Summing hills                                    1   502.421305   502.421305   502.421305   502.421305\n",
      "PLUMED:                                               Cycles        Total      Average      Minimum      Maximum\n",
      "PLUMED:                                                    1     0.000134     0.000134     0.000134     0.000134\n"
     ]
    }
   ],
   "source": [
    "# we then try sum hills on 2D\n",
    "!plumed sum_hills --hills HILLS_2D --min 0.0,0.0 --max 39.0,14 --bin 39,100"
   ]
  },
  {
   "cell_type": "code",
   "execution_count": 30,
   "id": "cd0572a8",
   "metadata": {},
   "outputs": [
    {
     "data": {
      "text/html": [
       "<div>\n",
       "<style scoped>\n",
       "    .dataframe tbody tr th:only-of-type {\n",
       "        vertical-align: middle;\n",
       "    }\n",
       "\n",
       "    .dataframe tbody tr th {\n",
       "        vertical-align: top;\n",
       "    }\n",
       "\n",
       "    .dataframe thead th {\n",
       "        text-align: right;\n",
       "    }\n",
       "</style>\n",
       "<table border=\"1\" class=\"dataframe\">\n",
       "  <thead>\n",
       "    <tr style=\"text-align: right;\">\n",
       "      <th></th>\n",
       "      <th>lambda</th>\n",
       "      <th>n</th>\n",
       "      <th>file.free</th>\n",
       "      <th>der_lambda</th>\n",
       "      <th>der_n</th>\n",
       "    </tr>\n",
       "  </thead>\n",
       "  <tbody>\n",
       "    <tr>\n",
       "      <th>0</th>\n",
       "      <td>0.0</td>\n",
       "      <td>0.0</td>\n",
       "      <td>-0.884071</td>\n",
       "      <td>-0.0</td>\n",
       "      <td>-64.833376</td>\n",
       "    </tr>\n",
       "    <tr>\n",
       "      <th>1</th>\n",
       "      <td>1.0</td>\n",
       "      <td>0.0</td>\n",
       "      <td>-0.827123</td>\n",
       "      <td>-0.0</td>\n",
       "      <td>-60.868094</td>\n",
       "    </tr>\n",
       "    <tr>\n",
       "      <th>2</th>\n",
       "      <td>2.0</td>\n",
       "      <td>0.0</td>\n",
       "      <td>-0.799114</td>\n",
       "      <td>-0.0</td>\n",
       "      <td>-58.846541</td>\n",
       "    </tr>\n",
       "    <tr>\n",
       "      <th>3</th>\n",
       "      <td>3.0</td>\n",
       "      <td>0.0</td>\n",
       "      <td>-0.770067</td>\n",
       "      <td>-0.0</td>\n",
       "      <td>-56.730408</td>\n",
       "    </tr>\n",
       "    <tr>\n",
       "      <th>4</th>\n",
       "      <td>4.0</td>\n",
       "      <td>0.0</td>\n",
       "      <td>-0.694901</td>\n",
       "      <td>-0.0</td>\n",
       "      <td>-51.565505</td>\n",
       "    </tr>\n",
       "    <tr>\n",
       "      <th>...</th>\n",
       "      <td>...</td>\n",
       "      <td>...</td>\n",
       "      <td>...</td>\n",
       "      <td>...</td>\n",
       "      <td>...</td>\n",
       "    </tr>\n",
       "    <tr>\n",
       "      <th>4035</th>\n",
       "      <td>35.0</td>\n",
       "      <td>14.0</td>\n",
       "      <td>-0.000000</td>\n",
       "      <td>-0.0</td>\n",
       "      <td>-0.000000</td>\n",
       "    </tr>\n",
       "    <tr>\n",
       "      <th>4036</th>\n",
       "      <td>36.0</td>\n",
       "      <td>14.0</td>\n",
       "      <td>-0.000000</td>\n",
       "      <td>-0.0</td>\n",
       "      <td>-0.000000</td>\n",
       "    </tr>\n",
       "    <tr>\n",
       "      <th>4037</th>\n",
       "      <td>37.0</td>\n",
       "      <td>14.0</td>\n",
       "      <td>-0.000000</td>\n",
       "      <td>-0.0</td>\n",
       "      <td>-0.000000</td>\n",
       "    </tr>\n",
       "    <tr>\n",
       "      <th>4038</th>\n",
       "      <td>38.0</td>\n",
       "      <td>14.0</td>\n",
       "      <td>-0.000000</td>\n",
       "      <td>-0.0</td>\n",
       "      <td>-0.000000</td>\n",
       "    </tr>\n",
       "    <tr>\n",
       "      <th>4039</th>\n",
       "      <td>39.0</td>\n",
       "      <td>14.0</td>\n",
       "      <td>-0.000000</td>\n",
       "      <td>-0.0</td>\n",
       "      <td>-0.000000</td>\n",
       "    </tr>\n",
       "  </tbody>\n",
       "</table>\n",
       "<p>4040 rows × 5 columns</p>\n",
       "</div>"
      ],
      "text/plain": [
       "      lambda     n  file.free  der_lambda      der_n\n",
       "0        0.0   0.0  -0.884071        -0.0 -64.833376\n",
       "1        1.0   0.0  -0.827123        -0.0 -60.868094\n",
       "2        2.0   0.0  -0.799114        -0.0 -58.846541\n",
       "3        3.0   0.0  -0.770067        -0.0 -56.730408\n",
       "4        4.0   0.0  -0.694901        -0.0 -51.565505\n",
       "...      ...   ...        ...         ...        ...\n",
       "4035    35.0  14.0  -0.000000        -0.0  -0.000000\n",
       "4036    36.0  14.0  -0.000000        -0.0  -0.000000\n",
       "4037    37.0  14.0  -0.000000        -0.0  -0.000000\n",
       "4038    38.0  14.0  -0.000000        -0.0  -0.000000\n",
       "4039    39.0  14.0  -0.000000        -0.0  -0.000000\n",
       "\n",
       "[4040 rows x 5 columns]"
      ]
     },
     "execution_count": 30,
     "metadata": {},
     "output_type": "execute_result"
    }
   ],
   "source": [
    "fes=plumed.read_as_pandas(\"fes.dat\")\n",
    "fes"
   ]
  },
  {
   "cell_type": "code",
   "execution_count": 37,
   "id": "8ea067af",
   "metadata": {},
   "outputs": [],
   "source": [
    "# I do the projection by hand (sum_hills doesn't handle well the numerical problems with exp, should be improved)\n",
    "FF=[]\n",
    "for i in range(40):\n",
    "    f=np.array(fes[\"file.free\"]).reshape((101,40)).copy()[:,i]\n",
    "    m=np.min(f) # this is the trick that should be implemented in sum_hills\n",
    "    FF.append(m-2.5*np.sum(np.exp(-(f-m)/2.5)))  "
   ]
  },
  {
   "cell_type": "code",
   "execution_count": 39,
   "id": "6c637266",
   "metadata": {},
   "outputs": [
    {
     "data": {
      "text/plain": [
       "[<matplotlib.lines.Line2D at 0x7fb49de98650>]"
      ]
     },
     "execution_count": 39,
     "metadata": {},
     "output_type": "execute_result"
    },
    {
     "data": {
      "image/png": "[encoded data removed]",
      "text/plain": [
       "<Figure size 432x288 with 1 Axes>"
      ]
     },
     "metadata": {
      "needs_background": "light"
     },
     "output_type": "display_data"
    }
   ],
   "source": [
    "plt.plot(FF)"
   ]
  },
  {
   "cell_type": "code",
   "execution_count": 43,
   "id": "abf153b3",
   "metadata": {},
   "outputs": [
    {
     "data": {
      "text/plain": [
       "150.46714563649047"
      ]
     },
     "execution_count": 43,
     "metadata": {},
     "output_type": "execute_result"
    }
   ],
   "source": [
    "(FF[-1]-FF[0])/2.5\n",
    "# this is DF in kBT units, ~ 150"
   ]
  },
  {
   "cell_type": "code",
   "execution_count": 45,
   "id": "36b0d47c",
   "metadata": {},
   "outputs": [
    {
     "data": {
      "text/plain": [
       "[<matplotlib.lines.Line2D at 0x7fb49d78b810>]"
      ]
     },
     "execution_count": 45,
     "metadata": {},
     "output_type": "execute_result"
    },
    {
     "data": {
      "image/png": "[encoded data removed]",
      "text/plain": [
       "<Figure size 432x288 with 1 Axes>"
      ]
     },
     "metadata": {
      "needs_background": "light"
     },
     "output_type": "display_data"
    }
   ],
   "source": [
    "fes0=fes[fes[\"lambda\"]==0.0]\n",
    "fes39=fes[fes[\"lambda\"]==39.0]\n",
    "plt.plot(fes0[\"n\"],fes0[\"file.free\"]-np.min(fes0[\"file.free\"]))\n",
    "plt.plot(fes39[\"n\"],fes39[\"file.free\"]-np.min(fes39[\"file.free\"]))"
   ]
  },
  {
   "cell_type": "code",
   "execution_count": 46,
   "id": "a046a95b",
   "metadata": {},
   "outputs": [],
   "source": [
    "# The blue line (lambda=0) suggests that there is a minimum close to n==0. I am not sure it was a good idea to use the walls then"
   ]
  }
 ],
 "metadata": {
  "kernelspec": {
   "display_name": "Python 3",
   "language": "python",
   "name": "python3"
  },
  "language_info": {
   "codemirror_mode": {
    "name": "ipython",
    "version": 3
   },
   "file_extension": ".py",
   "mimetype": "text/x-python",
   "name": "python",
   "nbconvert_exporter": "python",
   "pygments_lexer": "ipython3",
   "version": "3.8.12"
  }
 },
 "nbformat": 4,
 "nbformat_minor": 5
}
