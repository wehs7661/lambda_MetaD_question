{
 "cells": [
  {
   "cell_type": "markdown",
   "id": "magnetic-initial",
   "metadata": {},
   "source": [
    "# Problem 1-2: The instability of the system composed of charged vdW sites"
   ]
  },
  {
   "cell_type": "markdown",
   "id": "sufficient-paragraph",
   "metadata": {},
   "source": [
    "Previously I've reported the problem of having different free energy differences obtained from 2D alchemical metadynamics starting from different torsional states of a molecule composed of 4 uncharged vdW sites. It was later confirmed that the discrepancy completely came from different box sizes used in the two simulations. However, during the process of troubleshooting the problem, we encountered two other problems, which are now reported in Problem 1-1 and Problem 1-2."
   ]
  },
  {
   "cell_type": "code",
   "execution_count": null,
   "id": "contained-vegetarian",
   "metadata": {},
   "outputs": [],
   "source": []
  }
 ],
 "metadata": {
  "kernelspec": {
   "display_name": "Python 3",
   "language": "python",
   "name": "python3"
  },
  "language_info": {
   "codemirror_mode": {
    "name": "ipython",
    "version": 3
   },
   "file_extension": ".py",
   "mimetype": "text/x-python",
   "name": "python",
   "nbconvert_exporter": "python",
   "pygments_lexer": "ipython3",
   "version": "3.9.5"
  }
 },
 "nbformat": 4,
 "nbformat_minor": 5
}
