{
 "cells": [
  {
   "cell_type": "markdown",
   "id": "dcbf0a72",
   "metadata": {},
   "source": [
    "# Questions about free energy calculations "
   ]
  },
  {
   "cell_type": "markdown",
   "id": "6db2745a",
   "metadata": {},
   "source": [
    "In this notebook, we describe our questions about free energy calculations using the block bootstrap method. In a nutshell, we are mainly wondering the best strategies for deciding how much we should truncate a simulation and how much we should average the weight in the simulation for reweighting. Below we first demonstrate our workflow for free energy calculations and the results we got for two different systems we plan to present in our paper. "
   ]
  },
  {
   "cell_type": "markdown",
   "id": "10236f8a",
   "metadata": {},
   "source": [
    "## Our protocol for free energy calculations "
   ]
  },
  {
   "cell_type": "code",
   "execution_count": null,
   "id": "ac6bb3c6",
   "metadata": {},
   "outputs": [],
   "source": []
  },
  {
   "cell_type": "code",
   "execution_count": null,
   "id": "a21f82ae",
   "metadata": {},
   "outputs": [],
   "source": []
  },
  {
   "cell_type": "code",
   "execution_count": null,
   "id": "7effe2bc",
   "metadata": {},
   "outputs": [],
   "source": []
  }
 ],
 "metadata": {
  "kernelspec": {
   "display_name": "Python 3",
   "language": "python",
   "name": "python3"
  },
  "language_info": {
   "codemirror_mode": {
    "name": "ipython",
    "version": 3
   },
   "file_extension": ".py",
   "mimetype": "text/x-python",
   "name": "python",
   "nbconvert_exporter": "python",
   "pygments_lexer": "ipython3",
   "version": "3.8.12"
  }
 },
 "nbformat": 4,
 "nbformat_minor": 5
}
